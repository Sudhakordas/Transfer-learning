{
 "cells": [
  {
   "cell_type": "markdown",
   "metadata": {
    "papermill": {
     "duration": 0.018569,
     "end_time": "2020-08-26T05:51:24.681473",
     "exception": false,
     "start_time": "2020-08-26T05:51:24.662904",
     "status": "completed"
    },
    "tags": []
   },
   "source": [
    "---\n",
    "\n",
    "<h1 style=\"text-align: center;font-size: 30px; color: #013b86;\">Simple Churn prediction with Deep-Learning VS XGBoost</h1>\n",
    "\n",
    "---\n",
    "\n",
    "<center><img style=\"width: 700px;\" src=\"https://i.ibb.co/jWvLTtM/vs-image-2.jpg\"></center>\n",
    "\n",
    "---\n",
    "<i>Source: Base image from Google, after edit image upload in imgbb</i>"
   ]
  },
  {
   "cell_type": "markdown",
   "metadata": {
    "papermill": {
     "duration": 0.017737,
     "end_time": "2020-08-26T05:51:24.715560",
     "exception": false,
     "start_time": "2020-08-26T05:51:24.697823",
     "status": "completed"
    },
    "tags": []
   },
   "source": [
    "# Introduction\n",
    "\n",
    "This notebook is just about a simple comparison of artificial neural networks vs xgboost. For this comparison I use the churn-modelling data set.\n",
    "\n",
    "Here we are not doing detailed EDA. Which is not the goal for here. All that is needed to complete this process is to do a simple EDA.\n",
    "\n",
    "Deep learning is best for long information through. But we want to see. What do they do in such a situation.\n",
    "\n",
    "Hope u like this simple comparison."
   ]
  },
  {
   "cell_type": "code",
   "execution_count": 1,
   "metadata": {
    "_cell_guid": "b1076dfc-b9ad-4769-8c92-a6c4dae69d19",
    "_uuid": "8f2839f25d086af736a60e9eeb907d3b93b6e0e5",
    "execution": {
     "iopub.execute_input": "2020-08-26T05:51:24.760161Z",
     "iopub.status.busy": "2020-08-26T05:51:24.759239Z",
     "iopub.status.idle": "2020-08-26T05:51:25.863660Z",
     "shell.execute_reply": "2020-08-26T05:51:25.865119Z"
    },
    "papermill": {
     "duration": 1.132976,
     "end_time": "2020-08-26T05:51:25.865464",
     "exception": false,
     "start_time": "2020-08-26T05:51:24.732488",
     "status": "completed"
    },
    "tags": []
   },
   "outputs": [
    {
     "name": "stdout",
     "output_type": "stream",
     "text": [
      "/kaggle/input/churn-modelling/Churn_Modelling.csv\n",
      "/kaggle/input/telco-customer-churn/WA_Fn-UseC_-Telco-Customer-Churn.csv\n"
     ]
    }
   ],
   "source": [
    "import numpy as np \n",
    "import pandas as pd\n",
    "import seaborn as sns\n",
    "import matplotlib.pyplot as plt\n",
    "\n",
    "\n",
    "import os\n",
    "for dirname, _, filenames in os.walk('/kaggle/input'):\n",
    "    for filename in filenames:\n",
    "        print(os.path.join(dirname, filename))\n"
   ]
  },
  {
   "cell_type": "code",
   "execution_count": 2,
   "metadata": {
    "_cell_guid": "79c7e3d0-c299-4dcb-8224-4455121ee9b0",
    "_uuid": "d629ff2d2480ee46fbb7e2d37f6b5fab8052498a",
    "execution": {
     "iopub.execute_input": "2020-08-26T05:51:25.907414Z",
     "iopub.status.busy": "2020-08-26T05:51:25.906492Z",
     "iopub.status.idle": "2020-08-26T05:51:25.986961Z",
     "shell.execute_reply": "2020-08-26T05:51:25.987672Z"
    },
    "papermill": {
     "duration": 0.105605,
     "end_time": "2020-08-26T05:51:25.987884",
     "exception": false,
     "start_time": "2020-08-26T05:51:25.882279",
     "status": "completed"
    },
    "tags": []
   },
   "outputs": [
    {
     "data": {
      "text/html": [
       "<div>\n",
       "<style scoped>\n",
       "    .dataframe tbody tr th:only-of-type {\n",
       "        vertical-align: middle;\n",
       "    }\n",
       "\n",
       "    .dataframe tbody tr th {\n",
       "        vertical-align: top;\n",
       "    }\n",
       "\n",
       "    .dataframe thead th {\n",
       "        text-align: right;\n",
       "    }\n",
       "</style>\n",
       "<table border=\"1\" class=\"dataframe\">\n",
       "  <thead>\n",
       "    <tr style=\"text-align: right;\">\n",
       "      <th></th>\n",
       "      <th>RowNumber</th>\n",
       "      <th>CustomerId</th>\n",
       "      <th>Surname</th>\n",
       "      <th>CreditScore</th>\n",
       "      <th>Geography</th>\n",
       "      <th>Gender</th>\n",
       "      <th>Age</th>\n",
       "      <th>Tenure</th>\n",
       "      <th>Balance</th>\n",
       "      <th>NumOfProducts</th>\n",
       "      <th>HasCrCard</th>\n",
       "      <th>IsActiveMember</th>\n",
       "      <th>EstimatedSalary</th>\n",
       "      <th>Exited</th>\n",
       "    </tr>\n",
       "  </thead>\n",
       "  <tbody>\n",
       "    <tr>\n",
       "      <th>0</th>\n",
       "      <td>1</td>\n",
       "      <td>15634602</td>\n",
       "      <td>Hargrave</td>\n",
       "      <td>619</td>\n",
       "      <td>France</td>\n",
       "      <td>Female</td>\n",
       "      <td>42</td>\n",
       "      <td>2</td>\n",
       "      <td>0.00</td>\n",
       "      <td>1</td>\n",
       "      <td>1</td>\n",
       "      <td>1</td>\n",
       "      <td>101348.88</td>\n",
       "      <td>1</td>\n",
       "    </tr>\n",
       "    <tr>\n",
       "      <th>1</th>\n",
       "      <td>2</td>\n",
       "      <td>15647311</td>\n",
       "      <td>Hill</td>\n",
       "      <td>608</td>\n",
       "      <td>Spain</td>\n",
       "      <td>Female</td>\n",
       "      <td>41</td>\n",
       "      <td>1</td>\n",
       "      <td>83807.86</td>\n",
       "      <td>1</td>\n",
       "      <td>0</td>\n",
       "      <td>1</td>\n",
       "      <td>112542.58</td>\n",
       "      <td>0</td>\n",
       "    </tr>\n",
       "    <tr>\n",
       "      <th>2</th>\n",
       "      <td>3</td>\n",
       "      <td>15619304</td>\n",
       "      <td>Onio</td>\n",
       "      <td>502</td>\n",
       "      <td>France</td>\n",
       "      <td>Female</td>\n",
       "      <td>42</td>\n",
       "      <td>8</td>\n",
       "      <td>159660.80</td>\n",
       "      <td>3</td>\n",
       "      <td>1</td>\n",
       "      <td>0</td>\n",
       "      <td>113931.57</td>\n",
       "      <td>1</td>\n",
       "    </tr>\n",
       "    <tr>\n",
       "      <th>3</th>\n",
       "      <td>4</td>\n",
       "      <td>15701354</td>\n",
       "      <td>Boni</td>\n",
       "      <td>699</td>\n",
       "      <td>France</td>\n",
       "      <td>Female</td>\n",
       "      <td>39</td>\n",
       "      <td>1</td>\n",
       "      <td>0.00</td>\n",
       "      <td>2</td>\n",
       "      <td>0</td>\n",
       "      <td>0</td>\n",
       "      <td>93826.63</td>\n",
       "      <td>0</td>\n",
       "    </tr>\n",
       "    <tr>\n",
       "      <th>4</th>\n",
       "      <td>5</td>\n",
       "      <td>15737888</td>\n",
       "      <td>Mitchell</td>\n",
       "      <td>850</td>\n",
       "      <td>Spain</td>\n",
       "      <td>Female</td>\n",
       "      <td>43</td>\n",
       "      <td>2</td>\n",
       "      <td>125510.82</td>\n",
       "      <td>1</td>\n",
       "      <td>1</td>\n",
       "      <td>1</td>\n",
       "      <td>79084.10</td>\n",
       "      <td>0</td>\n",
       "    </tr>\n",
       "  </tbody>\n",
       "</table>\n",
       "</div>"
      ],
      "text/plain": [
       "   RowNumber  CustomerId   Surname  CreditScore Geography  Gender  Age  \\\n",
       "0          1    15634602  Hargrave          619    France  Female   42   \n",
       "1          2    15647311      Hill          608     Spain  Female   41   \n",
       "2          3    15619304      Onio          502    France  Female   42   \n",
       "3          4    15701354      Boni          699    France  Female   39   \n",
       "4          5    15737888  Mitchell          850     Spain  Female   43   \n",
       "\n",
       "   Tenure    Balance  NumOfProducts  HasCrCard  IsActiveMember  \\\n",
       "0       2       0.00              1          1               1   \n",
       "1       1   83807.86              1          0               1   \n",
       "2       8  159660.80              3          1               0   \n",
       "3       1       0.00              2          0               0   \n",
       "4       2  125510.82              1          1               1   \n",
       "\n",
       "   EstimatedSalary  Exited  \n",
       "0        101348.88       1  \n",
       "1        112542.58       0  \n",
       "2        113931.57       1  \n",
       "3         93826.63       0  \n",
       "4         79084.10       0  "
      ]
     },
     "execution_count": 2,
     "metadata": {},
     "output_type": "execute_result"
    }
   ],
   "source": [
    "dataset = pd.read_csv('/kaggle/input/churn-modelling/Churn_Modelling.csv')\n",
    "dataset.head()"
   ]
  },
  {
   "cell_type": "code",
   "execution_count": 3,
   "metadata": {
    "execution": {
     "iopub.execute_input": "2020-08-26T05:51:26.030009Z",
     "iopub.status.busy": "2020-08-26T05:51:26.029028Z",
     "iopub.status.idle": "2020-08-26T05:51:27.019919Z",
     "shell.execute_reply": "2020-08-26T05:51:27.020639Z"
    },
    "papermill": {
     "duration": 1.015869,
     "end_time": "2020-08-26T05:51:27.020860",
     "exception": false,
     "start_time": "2020-08-26T05:51:26.004991",
     "status": "completed"
    },
    "tags": []
   },
   "outputs": [
    {
     "data": {
      "text/plain": [
       "<matplotlib.axes._subplots.AxesSubplot at 0x7f3bae9681d0>"
      ]
     },
     "execution_count": 3,
     "metadata": {},
     "output_type": "execute_result"
    },
    {
     "data": {
      "image/png": "[encoded data removed]",
      "text/plain": [
       "<Figure size 1440x1440 with 2 Axes>"
      ]
     },
     "metadata": {
      "needs_background": "light"
     },
     "output_type": "display_data"
    }
   ],
   "source": [
    "plt.figure(figsize=(20,20))\n",
    "churn_corr = dataset.corr()\n",
    "churn_corr_top = churn_corr.index\n",
    "sns.heatmap(dataset[churn_corr_top].corr(), annot=True)"
   ]
  },
  {
   "cell_type": "code",
   "execution_count": 4,
   "metadata": {
    "execution": {
     "iopub.execute_input": "2020-08-26T05:51:27.066298Z",
     "iopub.status.busy": "2020-08-26T05:51:27.065392Z",
     "iopub.status.idle": "2020-08-26T05:51:27.070270Z",
     "shell.execute_reply": "2020-08-26T05:51:27.069368Z"
    },
    "papermill": {
     "duration": 0.031377,
     "end_time": "2020-08-26T05:51:27.070428",
     "exception": false,
     "start_time": "2020-08-26T05:51:27.039051",
     "status": "completed"
    },
    "tags": []
   },
   "outputs": [],
   "source": [
    "X = dataset.iloc[:, 3:13]\n",
    "y = dataset.iloc[:, 13]"
   ]
  },
  {
   "cell_type": "code",
   "execution_count": 5,
   "metadata": {
    "execution": {
     "iopub.execute_input": "2020-08-26T05:51:27.125675Z",
     "iopub.status.busy": "2020-08-26T05:51:27.124614Z",
     "iopub.status.idle": "2020-08-26T05:51:27.130760Z",
     "shell.execute_reply": "2020-08-26T05:51:27.129868Z"
    },
    "papermill": {
     "duration": 0.042125,
     "end_time": "2020-08-26T05:51:27.130922",
     "exception": false,
     "start_time": "2020-08-26T05:51:27.088797",
     "status": "completed"
    },
    "tags": []
   },
   "outputs": [
    {
     "data": {
      "text/html": [
       "<div>\n",
       "<style scoped>\n",
       "    .dataframe tbody tr th:only-of-type {\n",
       "        vertical-align: middle;\n",
       "    }\n",
       "\n",
       "    .dataframe tbody tr th {\n",
       "        vertical-align: top;\n",
       "    }\n",
       "\n",
       "    .dataframe thead th {\n",
       "        text-align: right;\n",
       "    }\n",
       "</style>\n",
       "<table border=\"1\" class=\"dataframe\">\n",
       "  <thead>\n",
       "    <tr style=\"text-align: right;\">\n",
       "      <th></th>\n",
       "      <th>CreditScore</th>\n",
       "      <th>Geography</th>\n",
       "      <th>Gender</th>\n",
       "      <th>Age</th>\n",
       "      <th>Tenure</th>\n",
       "      <th>Balance</th>\n",
       "      <th>NumOfProducts</th>\n",
       "      <th>HasCrCard</th>\n",
       "      <th>IsActiveMember</th>\n",
       "      <th>EstimatedSalary</th>\n",
       "    </tr>\n",
       "  </thead>\n",
       "  <tbody>\n",
       "    <tr>\n",
       "      <th>0</th>\n",
       "      <td>619</td>\n",
       "      <td>France</td>\n",
       "      <td>Female</td>\n",
       "      <td>42</td>\n",
       "      <td>2</td>\n",
       "      <td>0.00</td>\n",
       "      <td>1</td>\n",
       "      <td>1</td>\n",
       "      <td>1</td>\n",
       "      <td>101348.88</td>\n",
       "    </tr>\n",
       "    <tr>\n",
       "      <th>1</th>\n",
       "      <td>608</td>\n",
       "      <td>Spain</td>\n",
       "      <td>Female</td>\n",
       "      <td>41</td>\n",
       "      <td>1</td>\n",
       "      <td>83807.86</td>\n",
       "      <td>1</td>\n",
       "      <td>0</td>\n",
       "      <td>1</td>\n",
       "      <td>112542.58</td>\n",
       "    </tr>\n",
       "    <tr>\n",
       "      <th>2</th>\n",
       "      <td>502</td>\n",
       "      <td>France</td>\n",
       "      <td>Female</td>\n",
       "      <td>42</td>\n",
       "      <td>8</td>\n",
       "      <td>159660.80</td>\n",
       "      <td>3</td>\n",
       "      <td>1</td>\n",
       "      <td>0</td>\n",
       "      <td>113931.57</td>\n",
       "    </tr>\n",
       "    <tr>\n",
       "      <th>3</th>\n",
       "      <td>699</td>\n",
       "      <td>France</td>\n",
       "      <td>Female</td>\n",
       "      <td>39</td>\n",
       "      <td>1</td>\n",
       "      <td>0.00</td>\n",
       "      <td>2</td>\n",
       "      <td>0</td>\n",
       "      <td>0</td>\n",
       "      <td>93826.63</td>\n",
       "    </tr>\n",
       "    <tr>\n",
       "      <th>4</th>\n",
       "      <td>850</td>\n",
       "      <td>Spain</td>\n",
       "      <td>Female</td>\n",
       "      <td>43</td>\n",
       "      <td>2</td>\n",
       "      <td>125510.82</td>\n",
       "      <td>1</td>\n",
       "      <td>1</td>\n",
       "      <td>1</td>\n",
       "      <td>79084.10</td>\n",
       "    </tr>\n",
       "  </tbody>\n",
       "</table>\n",
       "</div>"
      ],
      "text/plain": [
       "   CreditScore Geography  Gender  Age  Tenure    Balance  NumOfProducts  \\\n",
       "0          619    France  Female   42       2       0.00              1   \n",
       "1          608     Spain  Female   41       1   83807.86              1   \n",
       "2          502    France  Female   42       8  159660.80              3   \n",
       "3          699    France  Female   39       1       0.00              2   \n",
       "4          850     Spain  Female   43       2  125510.82              1   \n",
       "\n",
       "   HasCrCard  IsActiveMember  EstimatedSalary  \n",
       "0          1               1        101348.88  \n",
       "1          0               1        112542.58  \n",
       "2          1               0        113931.57  \n",
       "3          0               0         93826.63  \n",
       "4          1               1         79084.10  "
      ]
     },
     "execution_count": 5,
     "metadata": {},
     "output_type": "execute_result"
    }
   ],
   "source": [
    "X.head()"
   ]
  },
  {
   "cell_type": "code",
   "execution_count": 6,
   "metadata": {
    "execution": {
     "iopub.execute_input": "2020-08-26T05:51:27.178995Z",
     "iopub.status.busy": "2020-08-26T05:51:27.178224Z",
     "iopub.status.idle": "2020-08-26T05:51:27.195916Z",
     "shell.execute_reply": "2020-08-26T05:51:27.196530Z"
    },
    "papermill": {
     "duration": 0.046834,
     "end_time": "2020-08-26T05:51:27.196726",
     "exception": false,
     "start_time": "2020-08-26T05:51:27.149892",
     "status": "completed"
    },
    "tags": []
   },
   "outputs": [
    {
     "data": {
      "text/html": [
       "<div>\n",
       "<style scoped>\n",
       "    .dataframe tbody tr th:only-of-type {\n",
       "        vertical-align: middle;\n",
       "    }\n",
       "\n",
       "    .dataframe tbody tr th {\n",
       "        vertical-align: top;\n",
       "    }\n",
       "\n",
       "    .dataframe thead th {\n",
       "        text-align: right;\n",
       "    }\n",
       "</style>\n",
       "<table border=\"1\" class=\"dataframe\">\n",
       "  <thead>\n",
       "    <tr style=\"text-align: right;\">\n",
       "      <th></th>\n",
       "      <th>Male</th>\n",
       "    </tr>\n",
       "  </thead>\n",
       "  <tbody>\n",
       "    <tr>\n",
       "      <th>0</th>\n",
       "      <td>0</td>\n",
       "    </tr>\n",
       "    <tr>\n",
       "      <th>1</th>\n",
       "      <td>0</td>\n",
       "    </tr>\n",
       "    <tr>\n",
       "      <th>2</th>\n",
       "      <td>0</td>\n",
       "    </tr>\n",
       "    <tr>\n",
       "      <th>3</th>\n",
       "      <td>0</td>\n",
       "    </tr>\n",
       "    <tr>\n",
       "      <th>4</th>\n",
       "      <td>0</td>\n",
       "    </tr>\n",
       "  </tbody>\n",
       "</table>\n",
       "</div>"
      ],
      "text/plain": [
       "   Male\n",
       "0     0\n",
       "1     0\n",
       "2     0\n",
       "3     0\n",
       "4     0"
      ]
     },
     "execution_count": 6,
     "metadata": {},
     "output_type": "execute_result"
    }
   ],
   "source": [
    "geography = pd.get_dummies(dataset['Geography'], drop_first=True)\n",
    "gender = pd.get_dummies(dataset['Gender'], drop_first=True)\n",
    "gender.head()"
   ]
  },
  {
   "cell_type": "code",
   "execution_count": 7,
   "metadata": {
    "execution": {
     "iopub.execute_input": "2020-08-26T05:51:27.244420Z",
     "iopub.status.busy": "2020-08-26T05:51:27.243613Z",
     "iopub.status.idle": "2020-08-26T05:51:27.247664Z",
     "shell.execute_reply": "2020-08-26T05:51:27.246807Z"
    },
    "papermill": {
     "duration": 0.032577,
     "end_time": "2020-08-26T05:51:27.247806",
     "exception": false,
     "start_time": "2020-08-26T05:51:27.215229",
     "status": "completed"
    },
    "tags": []
   },
   "outputs": [],
   "source": [
    "X = pd.concat([X, geography, gender], axis=1)"
   ]
  },
  {
   "cell_type": "code",
   "execution_count": 8,
   "metadata": {
    "execution": {
     "iopub.execute_input": "2020-08-26T05:51:27.293019Z",
     "iopub.status.busy": "2020-08-26T05:51:27.292210Z",
     "iopub.status.idle": "2020-08-26T05:51:27.302325Z",
     "shell.execute_reply": "2020-08-26T05:51:27.301470Z"
    },
    "papermill": {
     "duration": 0.036091,
     "end_time": "2020-08-26T05:51:27.302462",
     "exception": false,
     "start_time": "2020-08-26T05:51:27.266371",
     "status": "completed"
    },
    "tags": []
   },
   "outputs": [],
   "source": [
    "X = X.drop(['Geography', 'Gender'], axis=1)"
   ]
  },
  {
   "cell_type": "code",
   "execution_count": 9,
   "metadata": {
    "execution": {
     "iopub.execute_input": "2020-08-26T05:51:27.368381Z",
     "iopub.status.busy": "2020-08-26T05:51:27.367578Z",
     "iopub.status.idle": "2020-08-26T05:51:27.373920Z",
     "shell.execute_reply": "2020-08-26T05:51:27.374606Z"
    },
    "papermill": {
     "duration": 0.05345,
     "end_time": "2020-08-26T05:51:27.374820",
     "exception": false,
     "start_time": "2020-08-26T05:51:27.321370",
     "status": "completed"
    },
    "tags": []
   },
   "outputs": [
    {
     "data": {
      "text/html": [
       "<div>\n",
       "<style scoped>\n",
       "    .dataframe tbody tr th:only-of-type {\n",
       "        vertical-align: middle;\n",
       "    }\n",
       "\n",
       "    .dataframe tbody tr th {\n",
       "        vertical-align: top;\n",
       "    }\n",
       "\n",
       "    .dataframe thead th {\n",
       "        text-align: right;\n",
       "    }\n",
       "</style>\n",
       "<table border=\"1\" class=\"dataframe\">\n",
       "  <thead>\n",
       "    <tr style=\"text-align: right;\">\n",
       "      <th></th>\n",
       "      <th>CreditScore</th>\n",
       "      <th>Age</th>\n",
       "      <th>Tenure</th>\n",
       "      <th>Balance</th>\n",
       "      <th>NumOfProducts</th>\n",
       "      <th>HasCrCard</th>\n",
       "      <th>IsActiveMember</th>\n",
       "      <th>EstimatedSalary</th>\n",
       "      <th>Germany</th>\n",
       "      <th>Spain</th>\n",
       "      <th>Male</th>\n",
       "    </tr>\n",
       "  </thead>\n",
       "  <tbody>\n",
       "    <tr>\n",
       "      <th>0</th>\n",
       "      <td>619</td>\n",
       "      <td>42</td>\n",
       "      <td>2</td>\n",
       "      <td>0.00</td>\n",
       "      <td>1</td>\n",
       "      <td>1</td>\n",
       "      <td>1</td>\n",
       "      <td>101348.88</td>\n",
       "      <td>0</td>\n",
       "      <td>0</td>\n",
       "      <td>0</td>\n",
       "    </tr>\n",
       "    <tr>\n",
       "      <th>1</th>\n",
       "      <td>608</td>\n",
       "      <td>41</td>\n",
       "      <td>1</td>\n",
       "      <td>83807.86</td>\n",
       "      <td>1</td>\n",
       "      <td>0</td>\n",
       "      <td>1</td>\n",
       "      <td>112542.58</td>\n",
       "      <td>0</td>\n",
       "      <td>1</td>\n",
       "      <td>0</td>\n",
       "    </tr>\n",
       "    <tr>\n",
       "      <th>2</th>\n",
       "      <td>502</td>\n",
       "      <td>42</td>\n",
       "      <td>8</td>\n",
       "      <td>159660.80</td>\n",
       "      <td>3</td>\n",
       "      <td>1</td>\n",
       "      <td>0</td>\n",
       "      <td>113931.57</td>\n",
       "      <td>0</td>\n",
       "      <td>0</td>\n",
       "      <td>0</td>\n",
       "    </tr>\n",
       "    <tr>\n",
       "      <th>3</th>\n",
       "      <td>699</td>\n",
       "      <td>39</td>\n",
       "      <td>1</td>\n",
       "      <td>0.00</td>\n",
       "      <td>2</td>\n",
       "      <td>0</td>\n",
       "      <td>0</td>\n",
       "      <td>93826.63</td>\n",
       "      <td>0</td>\n",
       "      <td>0</td>\n",
       "      <td>0</td>\n",
       "    </tr>\n",
       "    <tr>\n",
       "      <th>4</th>\n",
       "      <td>850</td>\n",
       "      <td>43</td>\n",
       "      <td>2</td>\n",
       "      <td>125510.82</td>\n",
       "      <td>1</td>\n",
       "      <td>1</td>\n",
       "      <td>1</td>\n",
       "      <td>79084.10</td>\n",
       "      <td>0</td>\n",
       "      <td>1</td>\n",
       "      <td>0</td>\n",
       "    </tr>\n",
       "    <tr>\n",
       "      <th>...</th>\n",
       "      <td>...</td>\n",
       "      <td>...</td>\n",
       "      <td>...</td>\n",
       "      <td>...</td>\n",
       "      <td>...</td>\n",
       "      <td>...</td>\n",
       "      <td>...</td>\n",
       "      <td>...</td>\n",
       "      <td>...</td>\n",
       "      <td>...</td>\n",
       "      <td>...</td>\n",
       "    </tr>\n",
       "    <tr>\n",
       "      <th>9995</th>\n",
       "      <td>771</td>\n",
       "      <td>39</td>\n",
       "      <td>5</td>\n",
       "      <td>0.00</td>\n",
       "      <td>2</td>\n",
       "      <td>1</td>\n",
       "      <td>0</td>\n",
       "      <td>96270.64</td>\n",
       "      <td>0</td>\n",
       "      <td>0</td>\n",
       "      <td>1</td>\n",
       "    </tr>\n",
       "    <tr>\n",
       "      <th>9996</th>\n",
       "      <td>516</td>\n",
       "      <td>35</td>\n",
       "      <td>10</td>\n",
       "      <td>57369.61</td>\n",
       "      <td>1</td>\n",
       "      <td>1</td>\n",
       "      <td>1</td>\n",
       "      <td>101699.77</td>\n",
       "      <td>0</td>\n",
       "      <td>0</td>\n",
       "      <td>1</td>\n",
       "    </tr>\n",
       "    <tr>\n",
       "      <th>9997</th>\n",
       "      <td>709</td>\n",
       "      <td>36</td>\n",
       "      <td>7</td>\n",
       "      <td>0.00</td>\n",
       "      <td>1</td>\n",
       "      <td>0</td>\n",
       "      <td>1</td>\n",
       "      <td>42085.58</td>\n",
       "      <td>0</td>\n",
       "      <td>0</td>\n",
       "      <td>0</td>\n",
       "    </tr>\n",
       "    <tr>\n",
       "      <th>9998</th>\n",
       "      <td>772</td>\n",
       "      <td>42</td>\n",
       "      <td>3</td>\n",
       "      <td>75075.31</td>\n",
       "      <td>2</td>\n",
       "      <td>1</td>\n",
       "      <td>0</td>\n",
       "      <td>92888.52</td>\n",
       "      <td>1</td>\n",
       "      <td>0</td>\n",
       "      <td>1</td>\n",
       "    </tr>\n",
       "    <tr>\n",
       "      <th>9999</th>\n",
       "      <td>792</td>\n",
       "      <td>28</td>\n",
       "      <td>4</td>\n",
       "      <td>130142.79</td>\n",
       "      <td>1</td>\n",
       "      <td>1</td>\n",
       "      <td>0</td>\n",
       "      <td>38190.78</td>\n",
       "      <td>0</td>\n",
       "      <td>0</td>\n",
       "      <td>0</td>\n",
       "    </tr>\n",
       "  </tbody>\n",
       "</table>\n",
       "<p>10000 rows × 11 columns</p>\n",
       "</div>"
      ],
      "text/plain": [
       "      CreditScore  Age  Tenure    Balance  NumOfProducts  HasCrCard  \\\n",
       "0             619   42       2       0.00              1          1   \n",
       "1             608   41       1   83807.86              1          0   \n",
       "2             502   42       8  159660.80              3          1   \n",
       "3             699   39       1       0.00              2          0   \n",
       "4             850   43       2  125510.82              1          1   \n",
       "...           ...  ...     ...        ...            ...        ...   \n",
       "9995          771   39       5       0.00              2          1   \n",
       "9996          516   35      10   57369.61              1          1   \n",
       "9997          709   36       7       0.00              1          0   \n",
       "9998          772   42       3   75075.31              2          1   \n",
       "9999          792   28       4  130142.79              1          1   \n",
       "\n",
       "      IsActiveMember  EstimatedSalary  Germany  Spain  Male  \n",
       "0                  1        101348.88        0      0     0  \n",
       "1                  1        112542.58        0      1     0  \n",
       "2                  0        113931.57        0      0     0  \n",
       "3                  0         93826.63        0      0     0  \n",
       "4                  1         79084.10        0      1     0  \n",
       "...              ...              ...      ...    ...   ...  \n",
       "9995               0         96270.64        0      0     1  \n",
       "9996               1        101699.77        0      0     1  \n",
       "9997               1         42085.58        0      0     0  \n",
       "9998               0         92888.52        1      0     1  \n",
       "9999               0         38190.78        0      0     0  \n",
       "\n",
       "[10000 rows x 11 columns]"
      ]
     },
     "execution_count": 9,
     "metadata": {},
     "output_type": "execute_result"
    }
   ],
   "source": [
    "X"
   ]
  },
  {
   "cell_type": "markdown",
   "metadata": {
    "papermill": {
     "duration": 0.018778,
     "end_time": "2020-08-26T05:51:27.413816",
     "exception": false,
     "start_time": "2020-08-26T05:51:27.395038",
     "status": "completed"
    },
    "tags": []
   },
   "source": [
    "### Splitting the dataset into the Training set and Test set"
   ]
  },
  {
   "cell_type": "code",
   "execution_count": 10,
   "metadata": {
    "execution": {
     "iopub.execute_input": "2020-08-26T05:51:27.458447Z",
     "iopub.status.busy": "2020-08-26T05:51:27.457633Z",
     "iopub.status.idle": "2020-08-26T05:51:27.595863Z",
     "shell.execute_reply": "2020-08-26T05:51:27.594524Z"
    },
    "papermill": {
     "duration": 0.162887,
     "end_time": "2020-08-26T05:51:27.596102",
     "exception": false,
     "start_time": "2020-08-26T05:51:27.433215",
     "status": "completed"
    },
    "tags": []
   },
   "outputs": [],
   "source": [
    "from sklearn.model_selection import train_test_split"
   ]
  },
  {
   "cell_type": "code",
   "execution_count": 11,
   "metadata": {
    "execution": {
     "iopub.execute_input": "2020-08-26T05:51:27.645431Z",
     "iopub.status.busy": "2020-08-26T05:51:27.644574Z",
     "iopub.status.idle": "2020-08-26T05:51:27.656134Z",
     "shell.execute_reply": "2020-08-26T05:51:27.655317Z"
    },
    "papermill": {
     "duration": 0.041248,
     "end_time": "2020-08-26T05:51:27.656283",
     "exception": false,
     "start_time": "2020-08-26T05:51:27.615035",
     "status": "completed"
    },
    "tags": []
   },
   "outputs": [],
   "source": [
    "X_train, X_test, y_train, y_test = train_test_split(X,y, test_size=0.2, random_state=0)"
   ]
  },
  {
   "cell_type": "markdown",
   "metadata": {
    "papermill": {
     "duration": 0.018337,
     "end_time": "2020-08-26T05:51:27.693876",
     "exception": false,
     "start_time": "2020-08-26T05:51:27.675539",
     "status": "completed"
    },
    "tags": []
   },
   "source": [
    "# Artificial Neural Network"
   ]
  },
  {
   "cell_type": "markdown",
   "metadata": {
    "papermill": {
     "duration": 0.020745,
     "end_time": "2020-08-26T05:51:27.733539",
     "exception": false,
     "start_time": "2020-08-26T05:51:27.712794",
     "status": "completed"
    },
    "tags": []
   },
   "source": [
    "---\n",
    "\n",
    "<center><img style=\"width: 700px;\" src=\"https://www.mdpi.com/genes/genes-10-00553/article_deploy/html/images/genes-10-00553-g001.png\"></center>\n",
    "\n",
    "---"
   ]
  },
  {
   "cell_type": "markdown",
   "metadata": {
    "papermill": {
     "duration": 0.019202,
     "end_time": "2020-08-26T05:51:27.771807",
     "exception": false,
     "start_time": "2020-08-26T05:51:27.752605",
     "status": "completed"
    },
    "tags": []
   },
   "source": [
    "\n",
    "### Feature Scaling"
   ]
  },
  {
   "cell_type": "code",
   "execution_count": 12,
   "metadata": {
    "execution": {
     "iopub.execute_input": "2020-08-26T05:51:27.819392Z",
     "iopub.status.busy": "2020-08-26T05:51:27.818363Z",
     "iopub.status.idle": "2020-08-26T05:51:27.822951Z",
     "shell.execute_reply": "2020-08-26T05:51:27.822121Z"
    },
    "papermill": {
     "duration": 0.031183,
     "end_time": "2020-08-26T05:51:27.823127",
     "exception": false,
     "start_time": "2020-08-26T05:51:27.791944",
     "status": "completed"
    },
    "tags": []
   },
   "outputs": [],
   "source": [
    "from sklearn.preprocessing import StandardScaler"
   ]
  },
  {
   "cell_type": "code",
   "execution_count": 13,
   "metadata": {
    "execution": {
     "iopub.execute_input": "2020-08-26T05:51:27.875718Z",
     "iopub.status.busy": "2020-08-26T05:51:27.874351Z",
     "iopub.status.idle": "2020-08-26T05:51:27.891959Z",
     "shell.execute_reply": "2020-08-26T05:51:27.891234Z"
    },
    "papermill": {
     "duration": 0.048846,
     "end_time": "2020-08-26T05:51:27.892130",
     "exception": false,
     "start_time": "2020-08-26T05:51:27.843284",
     "status": "completed"
    },
    "tags": []
   },
   "outputs": [],
   "source": [
    "SC = StandardScaler()\n",
    "X_train = SC.fit_transform(X_train)\n",
    "X_test = SC.transform(X_test)"
   ]
  },
  {
   "cell_type": "markdown",
   "metadata": {
    "papermill": {
     "duration": 0.01956,
     "end_time": "2020-08-26T05:51:27.931424",
     "exception": false,
     "start_time": "2020-08-26T05:51:27.911864",
     "status": "completed"
    },
    "tags": []
   },
   "source": [
    "### Importing the Keras libraries and packages"
   ]
  },
  {
   "cell_type": "code",
   "execution_count": 14,
   "metadata": {
    "execution": {
     "iopub.execute_input": "2020-08-26T05:51:27.978841Z",
     "iopub.status.busy": "2020-08-26T05:51:27.977855Z",
     "iopub.status.idle": "2020-08-26T05:51:28.088133Z",
     "shell.execute_reply": "2020-08-26T05:51:28.087364Z"
    },
    "papermill": {
     "duration": 0.137252,
     "end_time": "2020-08-26T05:51:28.088295",
     "exception": false,
     "start_time": "2020-08-26T05:51:27.951043",
     "status": "completed"
    },
    "tags": []
   },
   "outputs": [
    {
     "name": "stderr",
     "output_type": "stream",
     "text": [
      "Using TensorFlow backend.\n"
     ]
    }
   ],
   "source": [
    "import keras\n",
    "from keras.models import Sequential\n",
    "from keras.layers import Dense\n",
    "from keras.layers import LeakyReLU, PReLU, ELU\n",
    "from keras.layers import Dropout"
   ]
  },
  {
   "cell_type": "markdown",
   "metadata": {
    "papermill": {
     "duration": 0.020269,
     "end_time": "2020-08-26T05:51:28.128063",
     "exception": false,
     "start_time": "2020-08-26T05:51:28.107794",
     "status": "completed"
    },
    "tags": []
   },
   "source": [
    "### Initialising the ANN"
   ]
  },
  {
   "cell_type": "code",
   "execution_count": 15,
   "metadata": {
    "execution": {
     "iopub.execute_input": "2020-08-26T05:51:28.174025Z",
     "iopub.status.busy": "2020-08-26T05:51:28.173201Z",
     "iopub.status.idle": "2020-08-26T05:51:28.193439Z",
     "shell.execute_reply": "2020-08-26T05:51:28.192716Z"
    },
    "papermill": {
     "duration": 0.046332,
     "end_time": "2020-08-26T05:51:28.193591",
     "exception": false,
     "start_time": "2020-08-26T05:51:28.147259",
     "status": "completed"
    },
    "tags": []
   },
   "outputs": [],
   "source": [
    "classifier = Sequential()"
   ]
  },
  {
   "cell_type": "markdown",
   "metadata": {
    "papermill": {
     "duration": 0.019081,
     "end_time": "2020-08-26T05:51:28.232704",
     "exception": false,
     "start_time": "2020-08-26T05:51:28.213623",
     "status": "completed"
    },
    "tags": []
   },
   "source": [
    "### Building Deep layer "
   ]
  },
  {
   "cell_type": "code",
   "execution_count": 16,
   "metadata": {
    "execution": {
     "iopub.execute_input": "2020-08-26T05:51:28.285719Z",
     "iopub.status.busy": "2020-08-26T05:51:28.283858Z",
     "iopub.status.idle": "2020-08-26T05:51:28.447236Z",
     "shell.execute_reply": "2020-08-26T05:51:28.446311Z"
    },
    "papermill": {
     "duration": 0.193946,
     "end_time": "2020-08-26T05:51:28.447387",
     "exception": false,
     "start_time": "2020-08-26T05:51:28.253441",
     "status": "completed"
    },
    "tags": []
   },
   "outputs": [],
   "source": [
    "# Adding the input layer and the first hidden layer\n",
    "classifier.add(Dense(6, kernel_initializer = 'he_uniform',activation='relu',input_dim = 11))\n",
    "classifier.add(Dropout(0.1))"
   ]
  },
  {
   "cell_type": "code",
   "execution_count": 17,
   "metadata": {
    "execution": {
     "iopub.execute_input": "2020-08-26T05:51:28.498242Z",
     "iopub.status.busy": "2020-08-26T05:51:28.497057Z",
     "iopub.status.idle": "2020-08-26T05:51:28.530509Z",
     "shell.execute_reply": "2020-08-26T05:51:28.529726Z"
    },
    "papermill": {
     "duration": 0.06399,
     "end_time": "2020-08-26T05:51:28.530671",
     "exception": false,
     "start_time": "2020-08-26T05:51:28.466681",
     "status": "completed"
    },
    "tags": []
   },
   "outputs": [],
   "source": [
    "# Adding the second hidden layer\n",
    "classifier.add(Dense(6, kernel_initializer = 'he_uniform',activation='relu'))\n",
    "classifier.add(Dropout(0.1))"
   ]
  },
  {
   "cell_type": "code",
   "execution_count": 18,
   "metadata": {
    "execution": {
     "iopub.execute_input": "2020-08-26T05:51:28.581676Z",
     "iopub.status.busy": "2020-08-26T05:51:28.580259Z",
     "iopub.status.idle": "2020-08-26T05:51:28.596036Z",
     "shell.execute_reply": "2020-08-26T05:51:28.595286Z"
    },
    "papermill": {
     "duration": 0.045743,
     "end_time": "2020-08-26T05:51:28.596231",
     "exception": false,
     "start_time": "2020-08-26T05:51:28.550488",
     "status": "completed"
    },
    "tags": []
   },
   "outputs": [],
   "source": [
    "# Adding the output layer\n",
    "classifier.add(Dense(1, kernel_initializer = 'glorot_uniform', activation = 'sigmoid'))"
   ]
  },
  {
   "cell_type": "code",
   "execution_count": 19,
   "metadata": {
    "execution": {
     "iopub.execute_input": "2020-08-26T05:51:28.654626Z",
     "iopub.status.busy": "2020-08-26T05:51:28.652709Z",
     "iopub.status.idle": "2020-08-26T05:51:28.663567Z",
     "shell.execute_reply": "2020-08-26T05:51:28.662748Z"
    },
    "papermill": {
     "duration": 0.046284,
     "end_time": "2020-08-26T05:51:28.663749",
     "exception": false,
     "start_time": "2020-08-26T05:51:28.617465",
     "status": "completed"
    },
    "tags": []
   },
   "outputs": [],
   "source": [
    "# Compiling the ANN\n",
    "classifier.compile(optimizer='Adamax', loss='binary_crossentropy', metrics=['accuracy'])"
   ]
  },
  {
   "cell_type": "code",
   "execution_count": 20,
   "metadata": {
    "execution": {
     "iopub.execute_input": "2020-08-26T05:51:28.713588Z",
     "iopub.status.busy": "2020-08-26T05:51:28.712463Z",
     "iopub.status.idle": "2020-08-26T05:53:53.696356Z",
     "shell.execute_reply": "2020-08-26T05:53:53.695477Z"
    },
    "papermill": {
     "duration": 145.01212,
     "end_time": "2020-08-26T05:53:53.696517",
     "exception": false,
     "start_time": "2020-08-26T05:51:28.684397",
     "status": "completed"
    },
    "tags": []
   },
   "outputs": [
    {
     "name": "stdout",
     "output_type": "stream",
     "text": [
      "Epoch 1/100\n",
      "536/536 [==============================] - 2s 3ms/step - loss: 0.7387 - accuracy: 0.5592 - val_loss: 0.6024 - val_accuracy: 0.6903\n",
      "Epoch 2/100\n",
      "536/536 [==============================] - 1s 3ms/step - loss: 0.5714 - accuracy: 0.7513 - val_loss: 0.5374 - val_accuracy: 0.7948\n",
      "Epoch 3/100\n",
      "536/536 [==============================] - 1s 3ms/step - loss: 0.5295 - accuracy: 0.7916 - val_loss: 0.5160 - val_accuracy: 0.8005\n",
      "Epoch 4/100\n",
      "536/536 [==============================] - 1s 3ms/step - loss: 0.5142 - accuracy: 0.7977 - val_loss: 0.5034 - val_accuracy: 0.8012\n",
      "Epoch 5/100\n",
      "536/536 [==============================] - 1s 3ms/step - loss: 0.4985 - accuracy: 0.7996 - val_loss: 0.4940 - val_accuracy: 0.8016\n",
      "Epoch 6/100\n",
      "536/536 [==============================] - 1s 3ms/step - loss: 0.4948 - accuracy: 0.7988 - val_loss: 0.4862 - val_accuracy: 0.8016\n",
      "Epoch 7/100\n",
      "536/536 [==============================] - 1s 3ms/step - loss: 0.4791 - accuracy: 0.8063 - val_loss: 0.4788 - val_accuracy: 0.8016\n",
      "Epoch 8/100\n",
      "536/536 [==============================] - 1s 3ms/step - loss: 0.4808 - accuracy: 0.8044 - val_loss: 0.4731 - val_accuracy: 0.8023\n",
      "Epoch 9/100\n",
      "536/536 [==============================] - 1s 3ms/step - loss: 0.4703 - accuracy: 0.8067 - val_loss: 0.4680 - val_accuracy: 0.8020\n",
      "Epoch 10/100\n",
      "536/536 [==============================] - 1s 3ms/step - loss: 0.4642 - accuracy: 0.8076 - val_loss: 0.4633 - val_accuracy: 0.8050\n",
      "Epoch 11/100\n",
      "536/536 [==============================] - 1s 3ms/step - loss: 0.4621 - accuracy: 0.8104 - val_loss: 0.4591 - val_accuracy: 0.8073\n",
      "Epoch 12/100\n",
      "536/536 [==============================] - 1s 3ms/step - loss: 0.4583 - accuracy: 0.8166 - val_loss: 0.4552 - val_accuracy: 0.8092\n",
      "Epoch 13/100\n",
      "536/536 [==============================] - 1s 3ms/step - loss: 0.4584 - accuracy: 0.8130 - val_loss: 0.4522 - val_accuracy: 0.8103\n",
      "Epoch 14/100\n",
      "536/536 [==============================] - 1s 3ms/step - loss: 0.4586 - accuracy: 0.8127 - val_loss: 0.4499 - val_accuracy: 0.8092\n",
      "Epoch 15/100\n",
      "536/536 [==============================] - 1s 3ms/step - loss: 0.4489 - accuracy: 0.8143 - val_loss: 0.4470 - val_accuracy: 0.8099\n",
      "Epoch 16/100\n",
      "536/536 [==============================] - 2s 3ms/step - loss: 0.4445 - accuracy: 0.8141 - val_loss: 0.4439 - val_accuracy: 0.8099\n",
      "Epoch 17/100\n",
      "536/536 [==============================] - 2s 3ms/step - loss: 0.4485 - accuracy: 0.8110 - val_loss: 0.4415 - val_accuracy: 0.8103\n",
      "Epoch 18/100\n",
      "536/536 [==============================] - 2s 3ms/step - loss: 0.4459 - accuracy: 0.8121 - val_loss: 0.4392 - val_accuracy: 0.8095\n",
      "Epoch 19/100\n",
      "536/536 [==============================] - 2s 4ms/step - loss: 0.4385 - accuracy: 0.8179 - val_loss: 0.4366 - val_accuracy: 0.8107\n",
      "Epoch 20/100\n",
      "536/536 [==============================] - 2s 3ms/step - loss: 0.4386 - accuracy: 0.8153 - val_loss: 0.4346 - val_accuracy: 0.8107\n",
      "Epoch 21/100\n",
      "536/536 [==============================] - 1s 3ms/step - loss: 0.4388 - accuracy: 0.8140 - val_loss: 0.4326 - val_accuracy: 0.8114\n",
      "Epoch 22/100\n",
      "536/536 [==============================] - 2s 3ms/step - loss: 0.4359 - accuracy: 0.8151 - val_loss: 0.4305 - val_accuracy: 0.8122\n",
      "Epoch 23/100\n",
      "536/536 [==============================] - 2s 3ms/step - loss: 0.4266 - accuracy: 0.8203 - val_loss: 0.4280 - val_accuracy: 0.8126\n",
      "Epoch 24/100\n",
      "536/536 [==============================] - 2s 3ms/step - loss: 0.4291 - accuracy: 0.8184 - val_loss: 0.4259 - val_accuracy: 0.8137\n",
      "Epoch 25/100\n",
      "536/536 [==============================] - 2s 3ms/step - loss: 0.4275 - accuracy: 0.8184 - val_loss: 0.4240 - val_accuracy: 0.8133\n",
      "Epoch 26/100\n",
      "536/536 [==============================] - 1s 3ms/step - loss: 0.4295 - accuracy: 0.8199 - val_loss: 0.4219 - val_accuracy: 0.8156\n",
      "Epoch 27/100\n",
      "536/536 [==============================] - 1s 3ms/step - loss: 0.4209 - accuracy: 0.8210 - val_loss: 0.4196 - val_accuracy: 0.8183\n",
      "Epoch 28/100\n",
      "536/536 [==============================] - 1s 3ms/step - loss: 0.4205 - accuracy: 0.8235 - val_loss: 0.4170 - val_accuracy: 0.8209\n",
      "Epoch 29/100\n",
      "536/536 [==============================] - 1s 3ms/step - loss: 0.4221 - accuracy: 0.8209 - val_loss: 0.4152 - val_accuracy: 0.8220\n",
      "Epoch 30/100\n",
      "536/536 [==============================] - 1s 3ms/step - loss: 0.4204 - accuracy: 0.8225 - val_loss: 0.4131 - val_accuracy: 0.8239\n",
      "Epoch 31/100\n",
      "536/536 [==============================] - 1s 3ms/step - loss: 0.4192 - accuracy: 0.8227 - val_loss: 0.4108 - val_accuracy: 0.8247\n",
      "Epoch 32/100\n",
      "536/536 [==============================] - 1s 3ms/step - loss: 0.4135 - accuracy: 0.8283 - val_loss: 0.4081 - val_accuracy: 0.8277\n",
      "Epoch 33/100\n",
      "536/536 [==============================] - 1s 3ms/step - loss: 0.4111 - accuracy: 0.8300 - val_loss: 0.4055 - val_accuracy: 0.8270\n",
      "Epoch 34/100\n",
      "536/536 [==============================] - 1s 3ms/step - loss: 0.4088 - accuracy: 0.8341 - val_loss: 0.4032 - val_accuracy: 0.8285\n",
      "Epoch 35/100\n",
      "536/536 [==============================] - 1s 3ms/step - loss: 0.4104 - accuracy: 0.8321 - val_loss: 0.4010 - val_accuracy: 0.8296\n",
      "Epoch 36/100\n",
      "536/536 [==============================] - 1s 3ms/step - loss: 0.4064 - accuracy: 0.8311 - val_loss: 0.3985 - val_accuracy: 0.8319\n",
      "Epoch 37/100\n",
      "536/536 [==============================] - 1s 3ms/step - loss: 0.4022 - accuracy: 0.8339 - val_loss: 0.3961 - val_accuracy: 0.8338\n",
      "Epoch 38/100\n",
      "536/536 [==============================] - 1s 3ms/step - loss: 0.4025 - accuracy: 0.8337 - val_loss: 0.3939 - val_accuracy: 0.8357\n",
      "Epoch 39/100\n",
      "536/536 [==============================] - 2s 3ms/step - loss: 0.4028 - accuracy: 0.8365 - val_loss: 0.3917 - val_accuracy: 0.8368\n",
      "Epoch 40/100\n",
      "536/536 [==============================] - 2s 3ms/step - loss: 0.3979 - accuracy: 0.8352 - val_loss: 0.3894 - val_accuracy: 0.8383\n",
      "Epoch 41/100\n",
      "536/536 [==============================] - 1s 3ms/step - loss: 0.3954 - accuracy: 0.8364 - val_loss: 0.3875 - val_accuracy: 0.8387\n",
      "Epoch 42/100\n",
      "536/536 [==============================] - 1s 3ms/step - loss: 0.3975 - accuracy: 0.8371 - val_loss: 0.3855 - val_accuracy: 0.8413\n",
      "Epoch 43/100\n",
      "536/536 [==============================] - 1s 3ms/step - loss: 0.3983 - accuracy: 0.8377 - val_loss: 0.3838 - val_accuracy: 0.8429\n",
      "Epoch 44/100\n",
      "536/536 [==============================] - 1s 3ms/step - loss: 0.3904 - accuracy: 0.8401 - val_loss: 0.3819 - val_accuracy: 0.8440\n",
      "Epoch 45/100\n",
      "536/536 [==============================] - 1s 3ms/step - loss: 0.3900 - accuracy: 0.8412 - val_loss: 0.3802 - val_accuracy: 0.8429\n",
      "Epoch 46/100\n",
      "536/536 [==============================] - 1s 3ms/step - loss: 0.3891 - accuracy: 0.8393 - val_loss: 0.3789 - val_accuracy: 0.8455\n",
      "Epoch 47/100\n",
      "536/536 [==============================] - 1s 3ms/step - loss: 0.3877 - accuracy: 0.8425 - val_loss: 0.3775 - val_accuracy: 0.8455\n",
      "Epoch 48/100\n",
      "536/536 [==============================] - 1s 3ms/step - loss: 0.3884 - accuracy: 0.8408 - val_loss: 0.3761 - val_accuracy: 0.8459\n",
      "Epoch 49/100\n",
      "536/536 [==============================] - 1s 3ms/step - loss: 0.3893 - accuracy: 0.8399 - val_loss: 0.3750 - val_accuracy: 0.8451\n",
      "Epoch 50/100\n",
      "536/536 [==============================] - 1s 3ms/step - loss: 0.3792 - accuracy: 0.8419 - val_loss: 0.3734 - val_accuracy: 0.8444\n",
      "Epoch 51/100\n",
      "536/536 [==============================] - 1s 3ms/step - loss: 0.3831 - accuracy: 0.8419 - val_loss: 0.3723 - val_accuracy: 0.8444\n",
      "Epoch 52/100\n",
      "536/536 [==============================] - 1s 3ms/step - loss: 0.3813 - accuracy: 0.8418 - val_loss: 0.3711 - val_accuracy: 0.8451\n",
      "Epoch 53/100\n",
      "536/536 [==============================] - 1s 3ms/step - loss: 0.3831 - accuracy: 0.8414 - val_loss: 0.3705 - val_accuracy: 0.8451\n",
      "Epoch 54/100\n",
      "536/536 [==============================] - 1s 3ms/step - loss: 0.3801 - accuracy: 0.8433 - val_loss: 0.3697 - val_accuracy: 0.8444\n",
      "Epoch 55/100\n",
      "536/536 [==============================] - 2s 3ms/step - loss: 0.3799 - accuracy: 0.8470 - val_loss: 0.3693 - val_accuracy: 0.8451\n",
      "Epoch 56/100\n",
      "536/536 [==============================] - 2s 3ms/step - loss: 0.3758 - accuracy: 0.8423 - val_loss: 0.3684 - val_accuracy: 0.8448\n",
      "Epoch 57/100\n",
      "536/536 [==============================] - 2s 3ms/step - loss: 0.3810 - accuracy: 0.8401 - val_loss: 0.3681 - val_accuracy: 0.8455\n",
      "Epoch 58/100\n",
      "536/536 [==============================] - 2s 4ms/step - loss: 0.3812 - accuracy: 0.8412 - val_loss: 0.3675 - val_accuracy: 0.8451\n",
      "Epoch 59/100\n",
      "536/536 [==============================] - 2s 4ms/step - loss: 0.3817 - accuracy: 0.8399 - val_loss: 0.3671 - val_accuracy: 0.8463\n",
      "Epoch 60/100\n",
      "536/536 [==============================] - 2s 4ms/step - loss: 0.3838 - accuracy: 0.8365 - val_loss: 0.3672 - val_accuracy: 0.8463\n",
      "Epoch 61/100\n",
      "536/536 [==============================] - 2s 3ms/step - loss: 0.3745 - accuracy: 0.8442 - val_loss: 0.3664 - val_accuracy: 0.8459\n",
      "Epoch 62/100\n",
      "536/536 [==============================] - 2s 3ms/step - loss: 0.3766 - accuracy: 0.8438 - val_loss: 0.3658 - val_accuracy: 0.8455\n",
      "Epoch 63/100\n",
      "536/536 [==============================] - 2s 3ms/step - loss: 0.3785 - accuracy: 0.8433 - val_loss: 0.3655 - val_accuracy: 0.8455\n",
      "Epoch 64/100\n",
      "536/536 [==============================] - 1s 3ms/step - loss: 0.3743 - accuracy: 0.8434 - val_loss: 0.3651 - val_accuracy: 0.8455\n",
      "Epoch 65/100\n",
      "536/536 [==============================] - 1s 3ms/step - loss: 0.3797 - accuracy: 0.8365 - val_loss: 0.3647 - val_accuracy: 0.8451\n",
      "Epoch 66/100\n",
      "536/536 [==============================] - 1s 3ms/step - loss: 0.3743 - accuracy: 0.8429 - val_loss: 0.3644 - val_accuracy: 0.8455\n",
      "Epoch 67/100\n",
      "536/536 [==============================] - 1s 3ms/step - loss: 0.3737 - accuracy: 0.8434 - val_loss: 0.3639 - val_accuracy: 0.8459\n",
      "Epoch 68/100\n",
      "536/536 [==============================] - 1s 3ms/step - loss: 0.3761 - accuracy: 0.8399 - val_loss: 0.3637 - val_accuracy: 0.8455\n",
      "Epoch 69/100\n",
      "536/536 [==============================] - 1s 2ms/step - loss: 0.3732 - accuracy: 0.8459 - val_loss: 0.3634 - val_accuracy: 0.8459\n",
      "Epoch 70/100\n",
      "536/536 [==============================] - 1s 3ms/step - loss: 0.3732 - accuracy: 0.8446 - val_loss: 0.3628 - val_accuracy: 0.8455\n",
      "Epoch 71/100\n",
      "536/536 [==============================] - 1s 3ms/step - loss: 0.3688 - accuracy: 0.8436 - val_loss: 0.3622 - val_accuracy: 0.8466\n",
      "Epoch 72/100\n",
      "536/536 [==============================] - 1s 3ms/step - loss: 0.3715 - accuracy: 0.8477 - val_loss: 0.3622 - val_accuracy: 0.8478\n",
      "Epoch 73/100\n",
      "536/536 [==============================] - 2s 3ms/step - loss: 0.3732 - accuracy: 0.8461 - val_loss: 0.3620 - val_accuracy: 0.8485\n",
      "Epoch 74/100\n",
      "536/536 [==============================] - 1s 3ms/step - loss: 0.3738 - accuracy: 0.8457 - val_loss: 0.3620 - val_accuracy: 0.8478\n",
      "Epoch 75/100\n",
      "536/536 [==============================] - 1s 2ms/step - loss: 0.3664 - accuracy: 0.8483 - val_loss: 0.3620 - val_accuracy: 0.8501\n",
      "Epoch 76/100\n",
      "536/536 [==============================] - 1s 2ms/step - loss: 0.3754 - accuracy: 0.8438 - val_loss: 0.3617 - val_accuracy: 0.8493\n",
      "Epoch 77/100\n",
      "536/536 [==============================] - 1s 2ms/step - loss: 0.3718 - accuracy: 0.8436 - val_loss: 0.3616 - val_accuracy: 0.8485\n",
      "Epoch 78/100\n",
      "536/536 [==============================] - 1s 2ms/step - loss: 0.3774 - accuracy: 0.8447 - val_loss: 0.3612 - val_accuracy: 0.8508\n",
      "Epoch 79/100\n",
      "536/536 [==============================] - 1s 2ms/step - loss: 0.3674 - accuracy: 0.8470 - val_loss: 0.3611 - val_accuracy: 0.8493\n",
      "Epoch 80/100\n",
      "536/536 [==============================] - 1s 2ms/step - loss: 0.3747 - accuracy: 0.8479 - val_loss: 0.3610 - val_accuracy: 0.8497\n",
      "Epoch 81/100\n",
      "536/536 [==============================] - 1s 2ms/step - loss: 0.3727 - accuracy: 0.8449 - val_loss: 0.3608 - val_accuracy: 0.8501\n",
      "Epoch 82/100\n",
      "536/536 [==============================] - 1s 2ms/step - loss: 0.3723 - accuracy: 0.8459 - val_loss: 0.3608 - val_accuracy: 0.8508\n",
      "Epoch 83/100\n",
      "536/536 [==============================] - 1s 2ms/step - loss: 0.3715 - accuracy: 0.8477 - val_loss: 0.3607 - val_accuracy: 0.8516\n",
      "Epoch 84/100\n",
      "536/536 [==============================] - 1s 2ms/step - loss: 0.3682 - accuracy: 0.8438 - val_loss: 0.3603 - val_accuracy: 0.8516\n",
      "Epoch 85/100\n",
      "536/536 [==============================] - 1s 2ms/step - loss: 0.3714 - accuracy: 0.8440 - val_loss: 0.3603 - val_accuracy: 0.8512\n",
      "Epoch 86/100\n",
      "536/536 [==============================] - 1s 2ms/step - loss: 0.3691 - accuracy: 0.8440 - val_loss: 0.3604 - val_accuracy: 0.8497\n",
      "Epoch 87/100\n",
      "536/536 [==============================] - 1s 2ms/step - loss: 0.3733 - accuracy: 0.8433 - val_loss: 0.3601 - val_accuracy: 0.8523\n",
      "Epoch 88/100\n",
      "536/536 [==============================] - 1s 2ms/step - loss: 0.3720 - accuracy: 0.8434 - val_loss: 0.3601 - val_accuracy: 0.8501\n",
      "Epoch 89/100\n",
      "536/536 [==============================] - 1s 2ms/step - loss: 0.3712 - accuracy: 0.8451 - val_loss: 0.3599 - val_accuracy: 0.8512\n",
      "Epoch 90/100\n",
      "536/536 [==============================] - 1s 2ms/step - loss: 0.3656 - accuracy: 0.8472 - val_loss: 0.3600 - val_accuracy: 0.8508\n",
      "Epoch 91/100\n",
      "536/536 [==============================] - 1s 2ms/step - loss: 0.3736 - accuracy: 0.8470 - val_loss: 0.3596 - val_accuracy: 0.8508\n",
      "Epoch 92/100\n",
      "536/536 [==============================] - 1s 2ms/step - loss: 0.3689 - accuracy: 0.8446 - val_loss: 0.3595 - val_accuracy: 0.8523\n",
      "Epoch 93/100\n",
      "536/536 [==============================] - 1s 2ms/step - loss: 0.3628 - accuracy: 0.8502 - val_loss: 0.3593 - val_accuracy: 0.8527\n",
      "Epoch 94/100\n",
      "536/536 [==============================] - 1s 2ms/step - loss: 0.3650 - accuracy: 0.8457 - val_loss: 0.3594 - val_accuracy: 0.8527\n",
      "Epoch 95/100\n",
      "536/536 [==============================] - 1s 2ms/step - loss: 0.3666 - accuracy: 0.8481 - val_loss: 0.3592 - val_accuracy: 0.8519\n",
      "Epoch 96/100\n",
      "536/536 [==============================] - 1s 2ms/step - loss: 0.3674 - accuracy: 0.8455 - val_loss: 0.3594 - val_accuracy: 0.8508\n",
      "Epoch 97/100\n",
      "536/536 [==============================] - 1s 2ms/step - loss: 0.3743 - accuracy: 0.8434 - val_loss: 0.3590 - val_accuracy: 0.8523\n",
      "Epoch 98/100\n",
      "536/536 [==============================] - 1s 2ms/step - loss: 0.3715 - accuracy: 0.8453 - val_loss: 0.3589 - val_accuracy: 0.8512\n",
      "Epoch 99/100\n",
      "536/536 [==============================] - 1s 2ms/step - loss: 0.3647 - accuracy: 0.8477 - val_loss: 0.3586 - val_accuracy: 0.8542\n",
      "Epoch 100/100\n",
      "536/536 [==============================] - 1s 2ms/step - loss: 0.3665 - accuracy: 0.8453 - val_loss: 0.3584 - val_accuracy: 0.8535\n"
     ]
    }
   ],
   "source": [
    "model_history = classifier.fit(X_train, y_train, validation_split=0.33, batch_size = 10, epochs = 100)"
   ]
  },
  {
   "cell_type": "markdown",
   "metadata": {
    "papermill": {
     "duration": 0.161639,
     "end_time": "2020-08-26T05:53:54.031335",
     "exception": false,
     "start_time": "2020-08-26T05:53:53.869696",
     "status": "completed"
    },
    "tags": []
   },
   "source": [
    "\n",
    "### list all data in history"
   ]
  },
  {
   "cell_type": "code",
   "execution_count": 21,
   "metadata": {
    "execution": {
     "iopub.execute_input": "2020-08-26T05:53:54.361412Z",
     "iopub.status.busy": "2020-08-26T05:53:54.360478Z",
     "iopub.status.idle": "2020-08-26T05:53:54.365489Z",
     "shell.execute_reply": "2020-08-26T05:53:54.364659Z"
    },
    "papermill": {
     "duration": 0.172776,
     "end_time": "2020-08-26T05:53:54.365638",
     "exception": false,
     "start_time": "2020-08-26T05:53:54.192862",
     "status": "completed"
    },
    "tags": []
   },
   "outputs": [
    {
     "name": "stdout",
     "output_type": "stream",
     "text": [
      "dict_keys(['loss', 'accuracy', 'val_loss', 'val_accuracy'])\n"
     ]
    }
   ],
   "source": [
    "print(model_history.history.keys())"
   ]
  },
  {
   "cell_type": "code",
   "execution_count": 22,
   "metadata": {
    "execution": {
     "iopub.execute_input": "2020-08-26T05:53:54.707512Z",
     "iopub.status.busy": "2020-08-26T05:53:54.705151Z",
     "iopub.status.idle": "2020-08-26T05:53:54.907235Z",
     "shell.execute_reply": "2020-08-26T05:53:54.906365Z"
    },
    "papermill": {
     "duration": 0.380961,
     "end_time": "2020-08-26T05:53:54.907386",
     "exception": false,
     "start_time": "2020-08-26T05:53:54.526425",
     "status": "completed"
    },
    "tags": []
   },
   "outputs": [
    {
     "data": {
      "image/png": "[encoded data removed]",
      "text/plain": [
       "<Figure size 720x504 with 1 Axes>"
      ]
     },
     "metadata": {
      "needs_background": "light"
     },
     "output_type": "display_data"
    }
   ],
   "source": [
    "# summarize history for accuracy\n",
    "plt.figure(figsize=(10, 7))\n",
    "plt.plot(model_history.history['accuracy'])\n",
    "plt.plot(model_history.history['val_accuracy'])\n",
    "plt.title('model accuracy')\n",
    "plt.ylabel('accuracy')\n",
    "plt.xlabel('epoch')\n",
    "plt.legend(['train', 'test'], loc='upper left')\n",
    "plt.show()"
   ]
  },
  {
   "cell_type": "code",
   "execution_count": 23,
   "metadata": {
    "execution": {
     "iopub.execute_input": "2020-08-26T05:53:55.255887Z",
     "iopub.status.busy": "2020-08-26T05:53:55.254629Z",
     "iopub.status.idle": "2020-08-26T05:53:55.454576Z",
     "shell.execute_reply": "2020-08-26T05:53:55.453892Z"
    },
    "papermill": {
     "duration": 0.38258,
     "end_time": "2020-08-26T05:53:55.454772",
     "exception": false,
     "start_time": "2020-08-26T05:53:55.072192",
     "status": "completed"
    },
    "tags": []
   },
   "outputs": [
    {
     "data": {
      "image/png": "[encoded data removed]",
      "text/plain": [
       "<Figure size 720x504 with 1 Axes>"
      ]
     },
     "metadata": {
      "needs_background": "light"
     },
     "output_type": "display_data"
    }
   ],
   "source": [
    "# summarize history for loss\n",
    "plt.figure(figsize=(10, 7))\n",
    "plt.plot(model_history.history['loss'])\n",
    "plt.plot(model_history.history['val_loss'])\n",
    "plt.title('model loss')\n",
    "plt.ylabel('loss')\n",
    "plt.xlabel('epoch')\n",
    "plt.legend(['train', 'test'], loc='upper left')\n",
    "plt.show()"
   ]
  },
  {
   "cell_type": "markdown",
   "metadata": {
    "papermill": {
     "duration": 0.237965,
     "end_time": "2020-08-26T05:53:55.855480",
     "exception": false,
     "start_time": "2020-08-26T05:53:55.617515",
     "status": "completed"
    },
    "tags": []
   },
   "source": [
    "## Part 3 - Making the predictions and evaluating the model"
   ]
  },
  {
   "cell_type": "code",
   "execution_count": 24,
   "metadata": {
    "execution": {
     "iopub.execute_input": "2020-08-26T05:53:56.191315Z",
     "iopub.status.busy": "2020-08-26T05:53:56.190429Z",
     "iopub.status.idle": "2020-08-26T05:53:56.437566Z",
     "shell.execute_reply": "2020-08-26T05:53:56.438174Z"
    },
    "papermill": {
     "duration": 0.419381,
     "end_time": "2020-08-26T05:53:56.438379",
     "exception": false,
     "start_time": "2020-08-26T05:53:56.018998",
     "status": "completed"
    },
    "tags": []
   },
   "outputs": [
    {
     "data": {
      "text/plain": [
       "array([[False],\n",
       "       [False],\n",
       "       [False],\n",
       "       ...,\n",
       "       [False],\n",
       "       [False],\n",
       "       [False]])"
      ]
     },
     "execution_count": 24,
     "metadata": {},
     "output_type": "execute_result"
    }
   ],
   "source": [
    "y_pred = classifier.predict(X_test)\n",
    "y_pred = (y_pred > 0.5)\n",
    "y_pred"
   ]
  },
  {
   "cell_type": "code",
   "execution_count": 25,
   "metadata": {
    "execution": {
     "iopub.execute_input": "2020-08-26T05:53:56.772354Z",
     "iopub.status.busy": "2020-08-26T05:53:56.771533Z",
     "iopub.status.idle": "2020-08-26T05:53:56.788861Z",
     "shell.execute_reply": "2020-08-26T05:53:56.787991Z"
    },
    "papermill": {
     "duration": 0.189211,
     "end_time": "2020-08-26T05:53:56.789010",
     "exception": false,
     "start_time": "2020-08-26T05:53:56.599799",
     "status": "completed"
    },
    "tags": []
   },
   "outputs": [],
   "source": [
    "# Making the Confusion Matrix\n",
    "from sklearn.metrics import confusion_matrix\n",
    "cm = confusion_matrix(y_test, y_pred)"
   ]
  },
  {
   "cell_type": "code",
   "execution_count": 26,
   "metadata": {
    "execution": {
     "iopub.execute_input": "2020-08-26T05:53:57.126572Z",
     "iopub.status.busy": "2020-08-26T05:53:57.125645Z",
     "iopub.status.idle": "2020-08-26T05:53:57.131603Z",
     "shell.execute_reply": "2020-08-26T05:53:57.130992Z"
    },
    "papermill": {
     "duration": 0.175436,
     "end_time": "2020-08-26T05:53:57.131749",
     "exception": false,
     "start_time": "2020-08-26T05:53:56.956313",
     "status": "completed"
    },
    "tags": []
   },
   "outputs": [
    {
     "data": {
      "text/plain": [
       "array([[1528,   67],\n",
       "       [ 210,  195]])"
      ]
     },
     "execution_count": 26,
     "metadata": {},
     "output_type": "execute_result"
    }
   ],
   "source": [
    "cm"
   ]
  },
  {
   "cell_type": "code",
   "execution_count": 27,
   "metadata": {
    "execution": {
     "iopub.execute_input": "2020-08-26T05:53:57.463119Z",
     "iopub.status.busy": "2020-08-26T05:53:57.462141Z",
     "iopub.status.idle": "2020-08-26T05:53:57.466438Z",
     "shell.execute_reply": "2020-08-26T05:53:57.466979Z"
    },
    "papermill": {
     "duration": 0.17574,
     "end_time": "2020-08-26T05:53:57.467191",
     "exception": false,
     "start_time": "2020-08-26T05:53:57.291451",
     "status": "completed"
    },
    "tags": []
   },
   "outputs": [],
   "source": [
    "# Calculate the Accuracy\n",
    "from sklearn.metrics import accuracy_score\n",
    "score = accuracy_score(y_test, y_pred)"
   ]
  },
  {
   "cell_type": "code",
   "execution_count": 28,
   "metadata": {
    "execution": {
     "iopub.execute_input": "2020-08-26T05:53:57.798244Z",
     "iopub.status.busy": "2020-08-26T05:53:57.797384Z",
     "iopub.status.idle": "2020-08-26T05:53:57.802946Z",
     "shell.execute_reply": "2020-08-26T05:53:57.802308Z"
    },
    "papermill": {
     "duration": 0.175176,
     "end_time": "2020-08-26T05:53:57.803123",
     "exception": false,
     "start_time": "2020-08-26T05:53:57.627947",
     "status": "completed"
    },
    "tags": []
   },
   "outputs": [
    {
     "data": {
      "text/plain": [
       "0.8615"
      ]
     },
     "execution_count": 28,
     "metadata": {},
     "output_type": "execute_result"
    }
   ],
   "source": [
    "score"
   ]
  },
  {
   "cell_type": "markdown",
   "metadata": {
    "papermill": {
     "duration": 0.235611,
     "end_time": "2020-08-26T05:53:58.208710",
     "exception": false,
     "start_time": "2020-08-26T05:53:57.973099",
     "status": "completed"
    },
    "tags": []
   },
   "source": [
    "## Hyper parameter Tuning for ANN"
   ]
  },
  {
   "cell_type": "code",
   "execution_count": 29,
   "metadata": {
    "execution": {
     "iopub.execute_input": "2020-08-26T05:53:58.540946Z",
     "iopub.status.busy": "2020-08-26T05:53:58.540169Z",
     "iopub.status.idle": "2020-08-26T05:53:58.543626Z",
     "shell.execute_reply": "2020-08-26T05:53:58.542990Z"
    },
    "papermill": {
     "duration": 0.172415,
     "end_time": "2020-08-26T05:53:58.543808",
     "exception": false,
     "start_time": "2020-08-26T05:53:58.371393",
     "status": "completed"
    },
    "tags": []
   },
   "outputs": [],
   "source": [
    "from keras.wrappers.scikit_learn import KerasClassifier\n",
    "from sklearn.model_selection import GridSearchCV"
   ]
  },
  {
   "cell_type": "code",
   "execution_count": 30,
   "metadata": {
    "execution": {
     "iopub.execute_input": "2020-08-26T05:53:58.873297Z",
     "iopub.status.busy": "2020-08-26T05:53:58.872470Z",
     "iopub.status.idle": "2020-08-26T05:53:58.876799Z",
     "shell.execute_reply": "2020-08-26T05:53:58.875999Z"
    },
    "papermill": {
     "duration": 0.172483,
     "end_time": "2020-08-26T05:53:58.876931",
     "exception": false,
     "start_time": "2020-08-26T05:53:58.704448",
     "status": "completed"
    },
    "tags": []
   },
   "outputs": [],
   "source": [
    "from keras.layers import Dense, Activation, Embedding, Flatten, LeakyReLU, BatchNormalization, Dropout\n",
    "from keras.activations import relu, sigmoid"
   ]
  },
  {
   "cell_type": "code",
   "execution_count": 31,
   "metadata": {
    "execution": {
     "iopub.execute_input": "2020-08-26T05:53:59.213126Z",
     "iopub.status.busy": "2020-08-26T05:53:59.212288Z",
     "iopub.status.idle": "2020-08-26T05:53:59.215746Z",
     "shell.execute_reply": "2020-08-26T05:53:59.216405Z"
    },
    "papermill": {
     "duration": 0.178407,
     "end_time": "2020-08-26T05:53:59.216624",
     "exception": false,
     "start_time": "2020-08-26T05:53:59.038217",
     "status": "completed"
    },
    "tags": []
   },
   "outputs": [],
   "source": [
    "def create_model(layers, activation):\n",
    "    model = Sequential()\n",
    "    for i, nodes in enumerate(layers):\n",
    "        if i == 0:\n",
    "            model.add(Dense(nodes, kernel_initializer = 'he_uniform',activation=activation,input_dim = X_train.shape[1]))\n",
    "            model.add(Dropout(0.1))\n",
    "        else:\n",
    "            model.add(Dense(nodes, kernel_initializer = 'he_uniform',activation=activation))\n",
    "            model.add(Dropout(0.1))\n",
    "\n",
    "    # Adding the output layer\n",
    "    model.add(Dense(1, kernel_initializer = 'glorot_uniform', activation = 'sigmoid'))\n",
    "                           \n",
    "    # Compiling the ANN\n",
    "    model.compile(optimizer='Adamax', loss='binary_crossentropy', metrics=['accuracy'])\n",
    "    return model"
   ]
  },
  {
   "cell_type": "code",
   "execution_count": 32,
   "metadata": {
    "execution": {
     "iopub.execute_input": "2020-08-26T05:53:59.557461Z",
     "iopub.status.busy": "2020-08-26T05:53:59.555531Z",
     "iopub.status.idle": "2020-08-26T05:56:13.062117Z",
     "shell.execute_reply": "2020-08-26T05:56:13.061207Z"
    },
    "papermill": {
     "duration": 133.682353,
     "end_time": "2020-08-26T05:56:13.062287",
     "exception": false,
     "start_time": "2020-08-26T05:53:59.379934",
     "status": "completed"
    },
    "tags": []
   },
   "outputs": [],
   "source": [
    "model = KerasClassifier(build_fn=create_model, verbose=0)\n",
    "layers = [(6, 3, 3), (10, 10), (45, 30, 15)]\n",
    "activations = ['sigmoid', 'relu']\n",
    "param_grid = dict(layers=layers, activation=activations, batch_size = [128, 256], epochs=[30])\n",
    "grid = GridSearchCV(estimator=model, param_grid=param_grid,cv=5)\n",
    "grid_result = grid.fit(X_train, y_train)"
   ]
  },
  {
   "cell_type": "code",
   "execution_count": 33,
   "metadata": {
    "execution": {
     "iopub.execute_input": "2020-08-26T05:56:13.393427Z",
     "iopub.status.busy": "2020-08-26T05:56:13.392501Z",
     "iopub.status.idle": "2020-08-26T05:56:13.397355Z",
     "shell.execute_reply": "2020-08-26T05:56:13.397907Z"
    },
    "papermill": {
     "duration": 0.173663,
     "end_time": "2020-08-26T05:56:13.398110",
     "exception": false,
     "start_time": "2020-08-26T05:56:13.224447",
     "status": "completed"
    },
    "tags": []
   },
   "outputs": [
    {
     "data": {
      "text/plain": [
       "[0.8408750057220459,\n",
       " {'activation': 'relu',\n",
       "  'batch_size': 128,\n",
       "  'epochs': 30,\n",
       "  'layers': (45, 30, 15)}]"
      ]
     },
     "execution_count": 33,
     "metadata": {},
     "output_type": "execute_result"
    }
   ],
   "source": [
    "[grid_result.best_score_,grid_result.best_params_]"
   ]
  },
  {
   "cell_type": "markdown",
   "metadata": {
    "papermill": {
     "duration": 0.236187,
     "end_time": "2020-08-26T05:56:13.798172",
     "exception": false,
     "start_time": "2020-08-26T05:56:13.561985",
     "status": "completed"
    },
    "tags": []
   },
   "source": [
    "# XGBoost"
   ]
  },
  {
   "cell_type": "markdown",
   "metadata": {
    "papermill": {
     "duration": 0.161779,
     "end_time": "2020-08-26T05:56:14.124411",
     "exception": false,
     "start_time": "2020-08-26T05:56:13.962632",
     "status": "completed"
    },
    "tags": []
   },
   "source": [
    "---\n",
    "\n",
    "<center><img style=\"width: 700px;\" src=\"https://d1rwhvwstyk9gu.cloudfront.net/2020/02/XG-Boost-FINAL-01.png\"></center>\n",
    "\n",
    "---"
   ]
  },
  {
   "cell_type": "code",
   "execution_count": 34,
   "metadata": {
    "execution": {
     "iopub.execute_input": "2020-08-26T05:56:14.478437Z",
     "iopub.status.busy": "2020-08-26T05:56:14.477462Z",
     "iopub.status.idle": "2020-08-26T05:56:14.485294Z",
     "shell.execute_reply": "2020-08-26T05:56:14.484472Z"
    },
    "papermill": {
     "duration": 0.198671,
     "end_time": "2020-08-26T05:56:14.485447",
     "exception": false,
     "start_time": "2020-08-26T05:56:14.286776",
     "status": "completed"
    },
    "tags": []
   },
   "outputs": [
    {
     "data": {
      "text/html": [
       "<div>\n",
       "<style scoped>\n",
       "    .dataframe tbody tr th:only-of-type {\n",
       "        vertical-align: middle;\n",
       "    }\n",
       "\n",
       "    .dataframe tbody tr th {\n",
       "        vertical-align: top;\n",
       "    }\n",
       "\n",
       "    .dataframe thead th {\n",
       "        text-align: right;\n",
       "    }\n",
       "</style>\n",
       "<table border=\"1\" class=\"dataframe\">\n",
       "  <thead>\n",
       "    <tr style=\"text-align: right;\">\n",
       "      <th></th>\n",
       "      <th>CreditScore</th>\n",
       "      <th>Age</th>\n",
       "      <th>Tenure</th>\n",
       "      <th>Balance</th>\n",
       "      <th>NumOfProducts</th>\n",
       "      <th>HasCrCard</th>\n",
       "      <th>IsActiveMember</th>\n",
       "      <th>EstimatedSalary</th>\n",
       "      <th>Germany</th>\n",
       "      <th>Spain</th>\n",
       "      <th>Male</th>\n",
       "    </tr>\n",
       "  </thead>\n",
       "  <tbody>\n",
       "    <tr>\n",
       "      <th>0</th>\n",
       "      <td>619</td>\n",
       "      <td>42</td>\n",
       "      <td>2</td>\n",
       "      <td>0.00</td>\n",
       "      <td>1</td>\n",
       "      <td>1</td>\n",
       "      <td>1</td>\n",
       "      <td>101348.88</td>\n",
       "      <td>0</td>\n",
       "      <td>0</td>\n",
       "      <td>0</td>\n",
       "    </tr>\n",
       "    <tr>\n",
       "      <th>1</th>\n",
       "      <td>608</td>\n",
       "      <td>41</td>\n",
       "      <td>1</td>\n",
       "      <td>83807.86</td>\n",
       "      <td>1</td>\n",
       "      <td>0</td>\n",
       "      <td>1</td>\n",
       "      <td>112542.58</td>\n",
       "      <td>0</td>\n",
       "      <td>1</td>\n",
       "      <td>0</td>\n",
       "    </tr>\n",
       "    <tr>\n",
       "      <th>2</th>\n",
       "      <td>502</td>\n",
       "      <td>42</td>\n",
       "      <td>8</td>\n",
       "      <td>159660.80</td>\n",
       "      <td>3</td>\n",
       "      <td>1</td>\n",
       "      <td>0</td>\n",
       "      <td>113931.57</td>\n",
       "      <td>0</td>\n",
       "      <td>0</td>\n",
       "      <td>0</td>\n",
       "    </tr>\n",
       "    <tr>\n",
       "      <th>3</th>\n",
       "      <td>699</td>\n",
       "      <td>39</td>\n",
       "      <td>1</td>\n",
       "      <td>0.00</td>\n",
       "      <td>2</td>\n",
       "      <td>0</td>\n",
       "      <td>0</td>\n",
       "      <td>93826.63</td>\n",
       "      <td>0</td>\n",
       "      <td>0</td>\n",
       "      <td>0</td>\n",
       "    </tr>\n",
       "    <tr>\n",
       "      <th>4</th>\n",
       "      <td>850</td>\n",
       "      <td>43</td>\n",
       "      <td>2</td>\n",
       "      <td>125510.82</td>\n",
       "      <td>1</td>\n",
       "      <td>1</td>\n",
       "      <td>1</td>\n",
       "      <td>79084.10</td>\n",
       "      <td>0</td>\n",
       "      <td>1</td>\n",
       "      <td>0</td>\n",
       "    </tr>\n",
       "  </tbody>\n",
       "</table>\n",
       "</div>"
      ],
      "text/plain": [
       "   CreditScore  Age  Tenure    Balance  NumOfProducts  HasCrCard  \\\n",
       "0          619   42       2       0.00              1          1   \n",
       "1          608   41       1   83807.86              1          0   \n",
       "2          502   42       8  159660.80              3          1   \n",
       "3          699   39       1       0.00              2          0   \n",
       "4          850   43       2  125510.82              1          1   \n",
       "\n",
       "   IsActiveMember  EstimatedSalary  Germany  Spain  Male  \n",
       "0               1        101348.88        0      0     0  \n",
       "1               1        112542.58        0      1     0  \n",
       "2               0        113931.57        0      0     0  \n",
       "3               0         93826.63        0      0     0  \n",
       "4               1         79084.10        0      1     0  "
      ]
     },
     "execution_count": 34,
     "metadata": {},
     "output_type": "execute_result"
    }
   ],
   "source": [
    "X.head()"
   ]
  },
  {
   "cell_type": "code",
   "execution_count": 35,
   "metadata": {
    "execution": {
     "iopub.execute_input": "2020-08-26T05:56:14.818488Z",
     "iopub.status.busy": "2020-08-26T05:56:14.817417Z",
     "iopub.status.idle": "2020-08-26T05:56:14.823063Z",
     "shell.execute_reply": "2020-08-26T05:56:14.822291Z"
    },
    "papermill": {
     "duration": 0.176651,
     "end_time": "2020-08-26T05:56:14.823215",
     "exception": false,
     "start_time": "2020-08-26T05:56:14.646564",
     "status": "completed"
    },
    "tags": []
   },
   "outputs": [
    {
     "data": {
      "text/plain": [
       "0    1\n",
       "1    0\n",
       "2    1\n",
       "3    0\n",
       "4    0\n",
       "Name: Exited, dtype: int64"
      ]
     },
     "execution_count": 35,
     "metadata": {},
     "output_type": "execute_result"
    }
   ],
   "source": [
    "y.head()"
   ]
  },
  {
   "cell_type": "markdown",
   "metadata": {
    "papermill": {
     "duration": 0.160054,
     "end_time": "2020-08-26T05:56:15.144393",
     "exception": false,
     "start_time": "2020-08-26T05:56:14.984339",
     "status": "completed"
    },
    "tags": []
   },
   "source": [
    "## Hyper Parameter Optimization for xgboost"
   ]
  },
  {
   "cell_type": "code",
   "execution_count": 36,
   "metadata": {
    "execution": {
     "iopub.execute_input": "2020-08-26T05:56:15.503006Z",
     "iopub.status.busy": "2020-08-26T05:56:15.501796Z",
     "iopub.status.idle": "2020-08-26T05:56:15.508478Z",
     "shell.execute_reply": "2020-08-26T05:56:15.507740Z"
    },
    "papermill": {
     "duration": 0.204154,
     "end_time": "2020-08-26T05:56:15.508614",
     "exception": false,
     "start_time": "2020-08-26T05:56:15.304460",
     "status": "completed"
    },
    "tags": []
   },
   "outputs": [],
   "source": [
    "params = {\n",
    "    \"max_depth\": [3, 4, 5, 6, 8, 10, 12, 15],\n",
    "    \"learning_rate\": [0.5, 0.10, 0.15, 0.20, 0.25, 0.30],\n",
    "    \"min_child_weight\": [1, 3, 5, 7],\n",
    "    \"gamma\": [0.0, 0.1, 0.2, 0.3, 0.4],\n",
    "    \"colsample_bytree\": [0.3, 0.4, 0.5, 0.7]\n",
    "}"
   ]
  },
  {
   "cell_type": "code",
   "execution_count": 37,
   "metadata": {
    "execution": {
     "iopub.execute_input": "2020-08-26T05:56:15.843475Z",
     "iopub.status.busy": "2020-08-26T05:56:15.842459Z",
     "iopub.status.idle": "2020-08-26T05:56:16.755528Z",
     "shell.execute_reply": "2020-08-26T05:56:16.754679Z"
    },
    "papermill": {
     "duration": 1.082042,
     "end_time": "2020-08-26T05:56:16.755674",
     "exception": false,
     "start_time": "2020-08-26T05:56:15.673632",
     "status": "completed"
    },
    "tags": []
   },
   "outputs": [],
   "source": [
    "## Hyperparameter optimization using RandomizedSearchCV\n",
    "from sklearn.model_selection import RandomizedSearchCV\n",
    "import xgboost"
   ]
  },
  {
   "cell_type": "code",
   "execution_count": 38,
   "metadata": {
    "execution": {
     "iopub.execute_input": "2020-08-26T05:56:17.166722Z",
     "iopub.status.busy": "2020-08-26T05:56:17.165651Z",
     "iopub.status.idle": "2020-08-26T05:56:17.169504Z",
     "shell.execute_reply": "2020-08-26T05:56:17.168800Z"
    },
    "papermill": {
     "duration": 0.180138,
     "end_time": "2020-08-26T05:56:17.169645",
     "exception": false,
     "start_time": "2020-08-26T05:56:16.989507",
     "status": "completed"
    },
    "tags": []
   },
   "outputs": [],
   "source": [
    "xgb_init = xgboost.XGBClassifier()"
   ]
  },
  {
   "cell_type": "code",
   "execution_count": 39,
   "metadata": {
    "execution": {
     "iopub.execute_input": "2020-08-26T05:56:17.504413Z",
     "iopub.status.busy": "2020-08-26T05:56:17.503518Z",
     "iopub.status.idle": "2020-08-26T05:56:17.507197Z",
     "shell.execute_reply": "2020-08-26T05:56:17.506431Z"
    },
    "papermill": {
     "duration": 0.174005,
     "end_time": "2020-08-26T05:56:17.507340",
     "exception": false,
     "start_time": "2020-08-26T05:56:17.333335",
     "status": "completed"
    },
    "tags": []
   },
   "outputs": [],
   "source": [
    "random_cv = RandomizedSearchCV(xgb_init, param_distributions=params, n_iter=5, scoring=\"roc_auc\", n_jobs=1, cv=5, verbose=3)"
   ]
  },
  {
   "cell_type": "code",
   "execution_count": 40,
   "metadata": {
    "execution": {
     "iopub.execute_input": "2020-08-26T05:56:17.842444Z",
     "iopub.status.busy": "2020-08-26T05:56:17.841662Z",
     "iopub.status.idle": "2020-08-26T05:56:28.106651Z",
     "shell.execute_reply": "2020-08-26T05:56:28.107435Z"
    },
    "papermill": {
     "duration": 10.437779,
     "end_time": "2020-08-26T05:56:28.107657",
     "exception": false,
     "start_time": "2020-08-26T05:56:17.669878",
     "status": "completed"
    },
    "tags": []
   },
   "outputs": [
    {
     "name": "stdout",
     "output_type": "stream",
     "text": [
      "Fitting 5 folds for each of 5 candidates, totalling 25 fits\n",
      "[CV] min_child_weight=3, max_depth=3, learning_rate=0.15, gamma=0.1, colsample_bytree=0.4 \n"
     ]
    },
    {
     "name": "stderr",
     "output_type": "stream",
     "text": [
      "[Parallel(n_jobs=1)]: Using backend SequentialBackend with 1 concurrent workers.\n"
     ]
    },
    {
     "name": "stdout",
     "output_type": "stream",
     "text": [
      "[CV]  min_child_weight=3, max_depth=3, learning_rate=0.15, gamma=0.1, colsample_bytree=0.4, score=0.870, total=   0.2s\n",
      "[CV] min_child_weight=3, max_depth=3, learning_rate=0.15, gamma=0.1, colsample_bytree=0.4 \n"
     ]
    },
    {
     "name": "stderr",
     "output_type": "stream",
     "text": [
      "[Parallel(n_jobs=1)]: Done   1 out of   1 | elapsed:    0.2s remaining:    0.0s\n"
     ]
    },
    {
     "name": "stdout",
     "output_type": "stream",
     "text": [
      "[CV]  min_child_weight=3, max_depth=3, learning_rate=0.15, gamma=0.1, colsample_bytree=0.4, score=0.867, total=   0.2s\n",
      "[CV] min_child_weight=3, max_depth=3, learning_rate=0.15, gamma=0.1, colsample_bytree=0.4 \n"
     ]
    },
    {
     "name": "stderr",
     "output_type": "stream",
     "text": [
      "[Parallel(n_jobs=1)]: Done   2 out of   2 | elapsed:    0.4s remaining:    0.0s\n"
     ]
    },
    {
     "name": "stdout",
     "output_type": "stream",
     "text": [
      "[CV]  min_child_weight=3, max_depth=3, learning_rate=0.15, gamma=0.1, colsample_bytree=0.4, score=0.862, total=   0.2s\n",
      "[CV] min_child_weight=3, max_depth=3, learning_rate=0.15, gamma=0.1, colsample_bytree=0.4 \n",
      "[CV]  min_child_weight=3, max_depth=3, learning_rate=0.15, gamma=0.1, colsample_bytree=0.4, score=0.867, total=   0.2s\n",
      "[CV] min_child_weight=3, max_depth=3, learning_rate=0.15, gamma=0.1, colsample_bytree=0.4 \n",
      "[CV]  min_child_weight=3, max_depth=3, learning_rate=0.15, gamma=0.1, colsample_bytree=0.4, score=0.861, total=   0.2s\n",
      "[CV] min_child_weight=5, max_depth=6, learning_rate=0.1, gamma=0.3, colsample_bytree=0.7 \n",
      "[CV]  min_child_weight=5, max_depth=6, learning_rate=0.1, gamma=0.3, colsample_bytree=0.7, score=0.868, total=   0.4s\n",
      "[CV] min_child_weight=5, max_depth=6, learning_rate=0.1, gamma=0.3, colsample_bytree=0.7 \n",
      "[CV]  min_child_weight=5, max_depth=6, learning_rate=0.1, gamma=0.3, colsample_bytree=0.7, score=0.867, total=   0.4s\n",
      "[CV] min_child_weight=5, max_depth=6, learning_rate=0.1, gamma=0.3, colsample_bytree=0.7 \n",
      "[CV]  min_child_weight=5, max_depth=6, learning_rate=0.1, gamma=0.3, colsample_bytree=0.7, score=0.862, total=   0.4s\n",
      "[CV] min_child_weight=5, max_depth=6, learning_rate=0.1, gamma=0.3, colsample_bytree=0.7 \n",
      "[CV]  min_child_weight=5, max_depth=6, learning_rate=0.1, gamma=0.3, colsample_bytree=0.7, score=0.871, total=   0.4s\n",
      "[CV] min_child_weight=5, max_depth=6, learning_rate=0.1, gamma=0.3, colsample_bytree=0.7 \n",
      "[CV]  min_child_weight=5, max_depth=6, learning_rate=0.1, gamma=0.3, colsample_bytree=0.7, score=0.860, total=   0.5s\n",
      "[CV] min_child_weight=1, max_depth=6, learning_rate=0.25, gamma=0.1, colsample_bytree=0.5 \n",
      "[CV]  min_child_weight=1, max_depth=6, learning_rate=0.25, gamma=0.1, colsample_bytree=0.5, score=0.856, total=   0.4s\n",
      "[CV] min_child_weight=1, max_depth=6, learning_rate=0.25, gamma=0.1, colsample_bytree=0.5 \n",
      "[CV]  min_child_weight=1, max_depth=6, learning_rate=0.25, gamma=0.1, colsample_bytree=0.5, score=0.855, total=   0.4s\n",
      "[CV] min_child_weight=1, max_depth=6, learning_rate=0.25, gamma=0.1, colsample_bytree=0.5 \n",
      "[CV]  min_child_weight=1, max_depth=6, learning_rate=0.25, gamma=0.1, colsample_bytree=0.5, score=0.857, total=   0.4s\n",
      "[CV] min_child_weight=1, max_depth=6, learning_rate=0.25, gamma=0.1, colsample_bytree=0.5 \n",
      "[CV]  min_child_weight=1, max_depth=6, learning_rate=0.25, gamma=0.1, colsample_bytree=0.5, score=0.862, total=   0.4s\n",
      "[CV] min_child_weight=1, max_depth=6, learning_rate=0.25, gamma=0.1, colsample_bytree=0.5 \n",
      "[CV]  min_child_weight=1, max_depth=6, learning_rate=0.25, gamma=0.1, colsample_bytree=0.5, score=0.853, total=   0.4s\n",
      "[CV] min_child_weight=7, max_depth=5, learning_rate=0.2, gamma=0.4, colsample_bytree=0.4 \n",
      "[CV]  min_child_weight=7, max_depth=5, learning_rate=0.2, gamma=0.4, colsample_bytree=0.4, score=0.864, total=   0.3s\n",
      "[CV] min_child_weight=7, max_depth=5, learning_rate=0.2, gamma=0.4, colsample_bytree=0.4 \n",
      "[CV]  min_child_weight=7, max_depth=5, learning_rate=0.2, gamma=0.4, colsample_bytree=0.4, score=0.866, total=   0.3s\n",
      "[CV] min_child_weight=7, max_depth=5, learning_rate=0.2, gamma=0.4, colsample_bytree=0.4 \n",
      "[CV]  min_child_weight=7, max_depth=5, learning_rate=0.2, gamma=0.4, colsample_bytree=0.4, score=0.857, total=   0.3s\n",
      "[CV] min_child_weight=7, max_depth=5, learning_rate=0.2, gamma=0.4, colsample_bytree=0.4 \n",
      "[CV]  min_child_weight=7, max_depth=5, learning_rate=0.2, gamma=0.4, colsample_bytree=0.4, score=0.868, total=   0.3s\n",
      "[CV] min_child_weight=7, max_depth=5, learning_rate=0.2, gamma=0.4, colsample_bytree=0.4 \n",
      "[CV]  min_child_weight=7, max_depth=5, learning_rate=0.2, gamma=0.4, colsample_bytree=0.4, score=0.860, total=   0.3s\n",
      "[CV] min_child_weight=5, max_depth=8, learning_rate=0.1, gamma=0.1, colsample_bytree=0.7 \n",
      "[CV]  min_child_weight=5, max_depth=8, learning_rate=0.1, gamma=0.1, colsample_bytree=0.7, score=0.859, total=   0.5s\n",
      "[CV] min_child_weight=5, max_depth=8, learning_rate=0.1, gamma=0.1, colsample_bytree=0.7 \n",
      "[CV]  min_child_weight=5, max_depth=8, learning_rate=0.1, gamma=0.1, colsample_bytree=0.7, score=0.863, total=   0.6s\n",
      "[CV] min_child_weight=5, max_depth=8, learning_rate=0.1, gamma=0.1, colsample_bytree=0.7 \n",
      "[CV]  min_child_weight=5, max_depth=8, learning_rate=0.1, gamma=0.1, colsample_bytree=0.7, score=0.858, total=   0.6s\n",
      "[CV] min_child_weight=5, max_depth=8, learning_rate=0.1, gamma=0.1, colsample_bytree=0.7 \n",
      "[CV]  min_child_weight=5, max_depth=8, learning_rate=0.1, gamma=0.1, colsample_bytree=0.7, score=0.863, total=   0.8s\n",
      "[CV] min_child_weight=5, max_depth=8, learning_rate=0.1, gamma=0.1, colsample_bytree=0.7 \n",
      "[CV]  min_child_weight=5, max_depth=8, learning_rate=0.1, gamma=0.1, colsample_bytree=0.7, score=0.852, total=   0.8s\n"
     ]
    },
    {
     "name": "stderr",
     "output_type": "stream",
     "text": [
      "[Parallel(n_jobs=1)]: Done  25 out of  25 | elapsed:   10.0s finished\n"
     ]
    },
    {
     "data": {
      "text/plain": [
       "RandomizedSearchCV(cv=5,\n",
       "                   estimator=XGBClassifier(base_score=None, booster=None,\n",
       "                                           colsample_bylevel=None,\n",
       "                                           colsample_bynode=None,\n",
       "                                           colsample_bytree=None, gamma=None,\n",
       "                                           gpu_id=None, importance_type='gain',\n",
       "                                           interaction_constraints=None,\n",
       "                                           learning_rate=None,\n",
       "                                           max_delta_step=None, max_depth=None,\n",
       "                                           min_child_weight=None, missing=nan,\n",
       "                                           monotone_constraints=None,\n",
       "                                           n_estimators=100,...\n",
       "                                           reg_lambda=None,\n",
       "                                           scale_pos_weight=None,\n",
       "                                           subsample=None, tree_method=None,\n",
       "                                           validate_parameters=None,\n",
       "                                           verbosity=None),\n",
       "                   n_iter=5, n_jobs=1,\n",
       "                   param_distributions={'colsample_bytree': [0.3, 0.4, 0.5,\n",
       "                                                             0.7],\n",
       "                                        'gamma': [0.0, 0.1, 0.2, 0.3, 0.4],\n",
       "                                        'learning_rate': [0.5, 0.1, 0.15, 0.2,\n",
       "                                                          0.25, 0.3],\n",
       "                                        'max_depth': [3, 4, 5, 6, 8, 10, 12,\n",
       "                                                      15],\n",
       "                                        'min_child_weight': [1, 3, 5, 7]},\n",
       "                   scoring='roc_auc', verbose=3)"
      ]
     },
     "execution_count": 40,
     "metadata": {},
     "output_type": "execute_result"
    }
   ],
   "source": [
    "random_cv.fit(X, y)"
   ]
  },
  {
   "cell_type": "code",
   "execution_count": 41,
   "metadata": {
    "execution": {
     "iopub.execute_input": "2020-08-26T05:56:28.473835Z",
     "iopub.status.busy": "2020-08-26T05:56:28.473104Z",
     "iopub.status.idle": "2020-08-26T05:56:28.482734Z",
     "shell.execute_reply": "2020-08-26T05:56:28.483341Z"
    },
    "papermill": {
     "duration": 0.179939,
     "end_time": "2020-08-26T05:56:28.483552",
     "exception": false,
     "start_time": "2020-08-26T05:56:28.303613",
     "status": "completed"
    },
    "tags": []
   },
   "outputs": [
    {
     "data": {
      "text/plain": [
       "XGBClassifier(base_score=0.5, booster='gbtree', colsample_bylevel=1,\n",
       "              colsample_bynode=1, colsample_bytree=0.4, gamma=0.1, gpu_id=-1,\n",
       "              importance_type='gain', interaction_constraints='',\n",
       "              learning_rate=0.15, max_delta_step=0, max_depth=3,\n",
       "              min_child_weight=3, missing=nan, monotone_constraints='()',\n",
       "              n_estimators=100, n_jobs=0, num_parallel_tree=1, random_state=0,\n",
       "              reg_alpha=0, reg_lambda=1, scale_pos_weight=1, subsample=1,\n",
       "              tree_method='exact', validate_parameters=1, verbosity=None)"
      ]
     },
     "execution_count": 41,
     "metadata": {},
     "output_type": "execute_result"
    }
   ],
   "source": [
    "random_cv.best_estimator_"
   ]
  },
  {
   "cell_type": "code",
   "execution_count": 42,
   "metadata": {
    "execution": {
     "iopub.execute_input": "2020-08-26T05:56:28.828569Z",
     "iopub.status.busy": "2020-08-26T05:56:28.827465Z",
     "iopub.status.idle": "2020-08-26T05:56:28.832529Z",
     "shell.execute_reply": "2020-08-26T05:56:28.831761Z"
    },
    "papermill": {
     "duration": 0.181918,
     "end_time": "2020-08-26T05:56:28.832668",
     "exception": false,
     "start_time": "2020-08-26T05:56:28.650750",
     "status": "completed"
    },
    "tags": []
   },
   "outputs": [
    {
     "data": {
      "text/plain": [
       "{'min_child_weight': 3,\n",
       " 'max_depth': 3,\n",
       " 'learning_rate': 0.15,\n",
       " 'gamma': 0.1,\n",
       " 'colsample_bytree': 0.4}"
      ]
     },
     "execution_count": 42,
     "metadata": {},
     "output_type": "execute_result"
    }
   ],
   "source": [
    "random_cv.best_params_"
   ]
  },
  {
   "cell_type": "code",
   "execution_count": 43,
   "metadata": {
    "execution": {
     "iopub.execute_input": "2020-08-26T05:56:29.247968Z",
     "iopub.status.busy": "2020-08-26T05:56:29.246904Z",
     "iopub.status.idle": "2020-08-26T05:56:29.251018Z",
     "shell.execute_reply": "2020-08-26T05:56:29.250235Z"
    },
    "papermill": {
     "duration": 0.180047,
     "end_time": "2020-08-26T05:56:29.251199",
     "exception": false,
     "start_time": "2020-08-26T05:56:29.071152",
     "status": "completed"
    },
    "tags": []
   },
   "outputs": [],
   "source": [
    "xgb_classifier = xgboost.XGBClassifier(base_score=0.5, booster='gbtree', colsample_bylevel=1,\n",
    "              colsample_bynode=1, colsample_bytree=0.4, gamma=0.2, gpu_id=-1,\n",
    "              importance_type='gain', interaction_constraints='',\n",
    "              learning_rate=0.3, max_delta_step=0, max_depth=3,\n",
    "              min_child_weight=1, missing=None, monotone_constraints='()',\n",
    "              n_estimators=100, n_jobs=0, num_parallel_tree=1, random_state=0,\n",
    "              reg_alpha=0, reg_lambda=1, scale_pos_weight=1, subsample=1,\n",
    "              tree_method='exact', validate_parameters=1, verbosity=None)"
   ]
  },
  {
   "cell_type": "code",
   "execution_count": 44,
   "metadata": {
    "execution": {
     "iopub.execute_input": "2020-08-26T05:56:29.592047Z",
     "iopub.status.busy": "2020-08-26T05:56:29.590988Z",
     "iopub.status.idle": "2020-08-26T05:56:29.595135Z",
     "shell.execute_reply": "2020-08-26T05:56:29.594383Z"
    },
    "papermill": {
     "duration": 0.176498,
     "end_time": "2020-08-26T05:56:29.595285",
     "exception": false,
     "start_time": "2020-08-26T05:56:29.418787",
     "status": "completed"
    },
    "tags": []
   },
   "outputs": [],
   "source": [
    "from sklearn.model_selection import cross_val_score"
   ]
  },
  {
   "cell_type": "code",
   "execution_count": 45,
   "metadata": {
    "execution": {
     "iopub.execute_input": "2020-08-26T05:56:29.943608Z",
     "iopub.status.busy": "2020-08-26T05:56:29.942764Z",
     "iopub.status.idle": "2020-08-26T05:56:32.209576Z",
     "shell.execute_reply": "2020-08-26T05:56:32.210706Z"
    },
    "papermill": {
     "duration": 2.44803,
     "end_time": "2020-08-26T05:56:32.210922",
     "exception": false,
     "start_time": "2020-08-26T05:56:29.762892",
     "status": "completed"
    },
    "tags": []
   },
   "outputs": [
    {
     "data": {
      "text/plain": [
       "array([0.872, 0.862, 0.867, 0.857, 0.867, 0.852, 0.869, 0.872, 0.854,\n",
       "       0.863])"
      ]
     },
     "execution_count": 45,
     "metadata": {},
     "output_type": "execute_result"
    }
   ],
   "source": [
    "predict = cross_val_score(xgb_classifier, X, y, cv=10)\n",
    "predict"
   ]
  },
  {
   "cell_type": "code",
   "execution_count": 46,
   "metadata": {
    "execution": {
     "iopub.execute_input": "2020-08-26T05:56:32.582688Z",
     "iopub.status.busy": "2020-08-26T05:56:32.581600Z",
     "iopub.status.idle": "2020-08-26T05:56:32.586211Z",
     "shell.execute_reply": "2020-08-26T05:56:32.586734Z"
    },
    "papermill": {
     "duration": 0.175891,
     "end_time": "2020-08-26T05:56:32.586923",
     "exception": false,
     "start_time": "2020-08-26T05:56:32.411032",
     "status": "completed"
    },
    "tags": []
   },
   "outputs": [
    {
     "data": {
      "text/plain": [
       "0.8634999999999999"
      ]
     },
     "execution_count": 46,
     "metadata": {},
     "output_type": "execute_result"
    }
   ],
   "source": [
    "predict = predict.mean()\n",
    "predict"
   ]
  },
  {
   "cell_type": "markdown",
   "metadata": {
    "papermill": {
     "duration": 0.16834,
     "end_time": "2020-08-26T05:56:32.922712",
     "exception": false,
     "start_time": "2020-08-26T05:56:32.754372",
     "status": "completed"
    },
    "tags": []
   },
   "source": [
    "---\n",
    "\n",
    "<h1 style=\"text-align: center;font-size: 30px; color: #e34b4b;\">Deep-Learning VS XGBoost</h1>\n",
    "\n",
    "---"
   ]
  },
  {
   "cell_type": "code",
   "execution_count": 47,
   "metadata": {
    "execution": {
     "iopub.execute_input": "2020-08-26T05:56:33.263270Z",
     "iopub.status.busy": "2020-08-26T05:56:33.262505Z",
     "iopub.status.idle": "2020-08-26T05:56:33.265067Z",
     "shell.execute_reply": "2020-08-26T05:56:33.265820Z"
    },
    "papermill": {
     "duration": 0.176826,
     "end_time": "2020-08-26T05:56:33.266003",
     "exception": false,
     "start_time": "2020-08-26T05:56:33.089177",
     "status": "completed"
    },
    "tags": []
   },
   "outputs": [],
   "source": [
    "import numpy as np\n",
    "import pandas as pd\n",
    "import matplotlib.pyplot as plt\n",
    "import seaborn as sns\n",
    "from IPython.display import HTML"
   ]
  },
  {
   "cell_type": "code",
   "execution_count": 48,
   "metadata": {
    "execution": {
     "iopub.execute_input": "2020-08-26T05:56:33.680166Z",
     "iopub.status.busy": "2020-08-26T05:56:33.679390Z",
     "iopub.status.idle": "2020-08-26T05:56:33.682573Z",
     "shell.execute_reply": "2020-08-26T05:56:33.683134Z"
    },
    "papermill": {
     "duration": 0.18153,
     "end_time": "2020-08-26T05:56:33.683343",
     "exception": false,
     "start_time": "2020-08-26T05:56:33.501813",
     "status": "completed"
    },
    "tags": []
   },
   "outputs": [],
   "source": [
    "th_props = [\n",
    "  ('font-size', '28px'),\n",
    "  ('text-align', 'center'),\n",
    "  ('font-weight', 'bold'),\n",
    "  ('color', '#021755'),\n",
    "  ('background-color', '#fbe4e5')\n",
    "  ]\n",
    "\n",
    "# Set CSS properties for td elements in dataframe\n",
    "td_props = [\n",
    "  ('font-size', '25px'),\n",
    "  ('background-color', '#f7f2ed')\n",
    "  ]\n",
    "\n",
    "# Set table styles\n",
    "styles = [\n",
    "  dict(selector=\"th\", props=th_props),\n",
    "  dict(selector=\"td\", props=td_props)\n",
    "  ]"
   ]
  },
  {
   "cell_type": "code",
   "execution_count": 49,
   "metadata": {
    "execution": {
     "iopub.execute_input": "2020-08-26T05:56:34.030824Z",
     "iopub.status.busy": "2020-08-26T05:56:34.030046Z",
     "iopub.status.idle": "2020-08-26T05:56:34.189813Z",
     "shell.execute_reply": "2020-08-26T05:56:34.189042Z"
    },
    "papermill": {
     "duration": 0.338252,
     "end_time": "2020-08-26T05:56:34.189948",
     "exception": false,
     "start_time": "2020-08-26T05:56:33.851696",
     "status": "completed"
    },
    "tags": []
   },
   "outputs": [
    {
     "data": {
      "text/html": [
       "<style  type=\"text/css\" >\n",
       "    #T_e584b61e_e760_11ea_8ba9_0242ac130202 th {\n",
       "          font-size: 28px;\n",
       "          text-align: center;\n",
       "          font-weight: bold;\n",
       "          color: #021755;\n",
       "          background-color: #fbe4e5;\n",
       "    }    #T_e584b61e_e760_11ea_8ba9_0242ac130202 td {\n",
       "          font-size: 25px;\n",
       "          background-color: #f7f2ed;\n",
       "    }</style><table id=\"T_e584b61e_e760_11ea_8ba9_0242ac130202\" ><caption>Deep-Learning VS XGBoost.</caption><thead>    <tr>        <th class=\"blank level0\" ></th>        <th class=\"col_heading level0 col0\" >ML Technique</th>        <th class=\"col_heading level0 col1\" >Score</th>    </tr></thead><tbody>\n",
       "                <tr>\n",
       "                        <th id=\"T_e584b61e_e760_11ea_8ba9_0242ac130202level0_row0\" class=\"row_heading level0 row0\" >0</th>\n",
       "                        <td id=\"T_e584b61e_e760_11ea_8ba9_0242ac130202row0_col0\" class=\"data row0 col0\" >Deep-Learning</td>\n",
       "                        <td id=\"T_e584b61e_e760_11ea_8ba9_0242ac130202row0_col1\" class=\"data row0 col1\" >0.861500</td>\n",
       "            </tr>\n",
       "            <tr>\n",
       "                        <th id=\"T_e584b61e_e760_11ea_8ba9_0242ac130202level0_row1\" class=\"row_heading level0 row1\" >1</th>\n",
       "                        <td id=\"T_e584b61e_e760_11ea_8ba9_0242ac130202row1_col0\" class=\"data row1 col0\" >XGBoost</td>\n",
       "                        <td id=\"T_e584b61e_e760_11ea_8ba9_0242ac130202row1_col1\" class=\"data row1 col1\" >0.863500</td>\n",
       "            </tr>\n",
       "    </tbody></table>"
      ],
      "text/plain": [
       "<pandas.io.formats.style.Styler at 0x7f3b31232dd0>"
      ]
     },
     "execution_count": 49,
     "metadata": {},
     "output_type": "execute_result"
    }
   ],
   "source": [
    "d = {'ML Technique': [\"Deep-Learning\", \"XGBoost\"], 'Score': [score, predict]}\n",
    "df = pd.DataFrame(data=d)\n",
    "cm = sns.light_palette(\"red\", as_cmap=True)\n",
    "\n",
    "(df.style\n",
    "  .set_caption('Deep-Learning VS XGBoost.')\n",
    "  .format({'total_amt_usd_pct_diff': \"{:.2%}\"})\n",
    "  .set_table_styles(styles))"
   ]
  },
  {
   "cell_type": "markdown",
   "metadata": {
    "papermill": {
     "duration": 0.164477,
     "end_time": "2020-08-26T05:56:34.519113",
     "exception": false,
     "start_time": "2020-08-26T05:56:34.354636",
     "status": "completed"
    },
    "tags": []
   },
   "source": [
    "note: Deep-Learning predicted value always changeable. sometimes it cross xgboost predicted value but maximum times are not. So please don't judge those as a actuala value. Try it yourself hope so u get some better experience."
   ]
  },
  {
   "cell_type": "markdown",
   "metadata": {
    "papermill": {
     "duration": 0.165628,
     "end_time": "2020-08-26T05:56:34.849502",
     "exception": false,
     "start_time": "2020-08-26T05:56:34.683874",
     "status": "completed"
    },
    "tags": []
   },
   "source": [
    "### Acknowledgement"
   ]
  },
  {
   "cell_type": "markdown",
   "metadata": {
    "papermill": {
     "duration": 0.163502,
     "end_time": "2020-08-26T05:56:35.179629",
     "exception": false,
     "start_time": "2020-08-26T05:56:35.016127",
     "status": "completed"
    },
    "tags": []
   },
   "source": [
    "* https://www.youtube.com/watch?v=9HomdnM12o4\n",
    "* https://www.youtube.com/watch?v=HdlDYng8g9s&t=100s\n",
    "* https://www.youtube.com/watch?v=OTTOglLJxLU&list=PLZoTAELRMXVPGU70ZGsckrMdr0FteeRUi&index=17\n",
    "* https://mode.com/example-gallery/python_dataframe_styling/"
   ]
  },
  {
   "cell_type": "code",
   "execution_count": null,
   "metadata": {
    "papermill": {
     "duration": 0.16634,
     "end_time": "2020-08-26T05:56:35.510247",
     "exception": false,
     "start_time": "2020-08-26T05:56:35.343907",
     "status": "completed"
    },
    "tags": []
   },
   "outputs": [],
   "source": []
  },
  {
   "cell_type": "code",
   "execution_count": null,
   "metadata": {
    "papermill": {
     "duration": 0.163749,
     "end_time": "2020-08-26T05:56:35.894131",
     "exception": false,
     "start_time": "2020-08-26T05:56:35.730382",
     "status": "completed"
    },
    "tags": []
   },
   "outputs": [],
   "source": []
  }
 ],
 "metadata": {
  "kernelspec": {
   "display_name": "Python 3",
   "language": "python",
   "name": "python3"
  },
  "language_info": {
   "codemirror_mode": {
    "name": "ipython",
    "version": 3
   },
   "file_extension": ".py",
   "mimetype": "text/x-python",
   "name": "python",
   "nbconvert_exporter": "python",
   "pygments_lexer": "ipython3",
   "version": "3.6.10"
  },
  "papermill": {
   "duration": 325.571881,
   "end_time": "2020-08-26T05:56:36.170694",
   "environment_variables": {},
   "exception": null,
   "input_path": "__notebook__.ipynb",
   "output_path": "__notebook__.ipynb",
   "parameters": {},
   "start_time": "2020-08-26T05:51:10.598813",
   "version": "2.1.0"
  }
 },
 "nbformat": 4,
 "nbformat_minor": 4
}
